{
 "cells": [
  {
   "cell_type": "markdown",
   "id": "28c7fa6b-e3ed-4bdb-ac2e-aeed9b104de4",
   "metadata": {},
   "source": [
    "# Textbook Examples"
   ]
  },
  {
   "cell_type": "markdown",
   "id": "18ba834d-1ef5-42d2-b32e-8a510b5006a6",
   "metadata": {},
   "source": [
    "## Mutable Class Attributes"
   ]
  },
  {
   "cell_type": "markdown",
   "id": "1f59b4e3-7260-4531-bf7e-234d235328dd",
   "metadata": {},
   "source": [
    "There is an interesting gotcha regarding class attributes in Python\n",
    "\n",
    "* Lists and other mutable data structures can be class attribtues and yet have thier values modified by instances.\n",
    "\n",
    "* To demonstrate, we define a class wit htwo instance variables, one a scalar and one a list.\n",
    "\n",
    "* We also define a method to compare the state of the instance with that of its class"
   ]
  },
  {
   "cell_type": "code",
   "execution_count": 1,
   "id": "dae219d9-4952-4ec4-a58b-effef03767ab",
   "metadata": {
    "tags": []
   },
   "outputs": [],
   "source": [
    "class MyTest():\n",
    "    #two class attribtues\n",
    "    foo = 0\n",
    "    bar = []\n",
    "    \n",
    "    def add_one(self):\n",
    "        #a method to alter the values of the class attributes.\n",
    "        self.foo += 1\n",
    "        self.bar.append(1)\n",
    "        \n",
    "    def compare_states(self):\n",
    "        #compares the state of instance to that of its class\n",
    "        print('i.foo = ', self.foo)\n",
    "        print('c.foo = ', __class__.foo) #notice how we can refer to an instance's class\n",
    "        print('i.bar =', self.bar)\n",
    "        print('c.bar =', __class__.bar)"
   ]
  },
  {
   "cell_type": "code",
   "execution_count": 2,
   "id": "e12e6779-9e35-4f1c-8500-4952b3b99458",
   "metadata": {
    "tags": []
   },
   "outputs": [],
   "source": [
    "test1 = MyTest()"
   ]
  },
  {
   "cell_type": "code",
   "execution_count": 3,
   "id": "f71b6156-c9bb-4ae5-a580-732bd5a5baca",
   "metadata": {
    "tags": []
   },
   "outputs": [
    {
     "name": "stdout",
     "output_type": "stream",
     "text": [
      "i.foo =  0\n",
      "c.foo =  0\n",
      "i.bar = []\n",
      "c.bar = []\n"
     ]
    }
   ],
   "source": [
    "test1.compare_states()"
   ]
  },
  {
   "cell_type": "markdown",
   "id": "820eae8f-d101-437b-bc47-8a221cb7c1b5",
   "metadata": {},
   "source": [
    "now let's increment the attirbutes and see the results"
   ]
  },
  {
   "cell_type": "code",
   "execution_count": 4,
   "id": "4a201b32-2034-4022-a1ab-affcdb11ebf4",
   "metadata": {
    "tags": []
   },
   "outputs": [],
   "source": [
    "test1.add_one()"
   ]
  },
  {
   "cell_type": "code",
   "execution_count": 5,
   "id": "0da1e5c1-dc9a-4560-8df9-adf992f2d941",
   "metadata": {
    "tags": []
   },
   "outputs": [
    {
     "name": "stdout",
     "output_type": "stream",
     "text": [
      "i.foo =  1\n",
      "c.foo =  0\n",
      "i.bar = [1]\n",
      "c.bar = [1]\n"
     ]
    }
   ],
   "source": [
    "test1.compare_states()"
   ]
  },
  {
   "cell_type": "markdown",
   "id": "502941ef-b895-487c-9f39-802290b4e066",
   "metadata": {},
   "source": [
    "* The method does disconnect the instance foo from the class foo\n",
    "\n",
    "* But it does not disconnect the instance bar from the class bar\n",
    "\n",
    "* Instead, a change that took place in one instance affects the state of all other instances!\n",
    "\n",
    "* The difference is that foo is a scalar, and bar is a list, i.e. mutable data structure.\n",
    "\n",
    "* When the instance mutates the class attribute, the class attribute is not rasiggned- only its contents change\n",
    "\n",
    "* We do it again to drive the point home\n"
   ]
  },
  {
   "cell_type": "code",
   "execution_count": 6,
   "id": "c9feea4f-6108-43db-98b3-c554046dc519",
   "metadata": {
    "tags": []
   },
   "outputs": [],
   "source": [
    "test1.add_one()"
   ]
  },
  {
   "cell_type": "code",
   "execution_count": 7,
   "id": "c8c4cf80-d6ca-43f2-a823-9b2949b32184",
   "metadata": {
    "tags": []
   },
   "outputs": [
    {
     "name": "stdout",
     "output_type": "stream",
     "text": [
      "i.foo =  2\n",
      "c.foo =  0\n",
      "i.bar = [1, 1]\n",
      "c.bar = [1, 1]\n"
     ]
    }
   ],
   "source": [
    "test1.compare_states()"
   ]
  },
  {
   "cell_type": "markdown",
   "id": "29291ed1-adfe-4ac1-8f4e-c1651de481e4",
   "metadata": {},
   "source": [
    "Now let's replace list itself in the instance\n"
   ]
  },
  {
   "cell_type": "code",
   "execution_count": 8,
   "id": "f508a5b0-d087-412e-9d96-16b9f7720f79",
   "metadata": {
    "tags": []
   },
   "outputs": [],
   "source": [
    "test1.bar = []"
   ]
  },
  {
   "cell_type": "code",
   "execution_count": 9,
   "id": "d22b3c5c-c214-4007-b658-7ba983ba5ee5",
   "metadata": {
    "tags": []
   },
   "outputs": [
    {
     "name": "stdout",
     "output_type": "stream",
     "text": [
      "Iter 0\n",
      "i.foo =  3\n",
      "c.foo =  0\n",
      "i.bar = [1]\n",
      "c.bar = [1, 1]\n",
      "\n",
      "Iter 1\n",
      "i.foo =  4\n",
      "c.foo =  0\n",
      "i.bar = [1, 1]\n",
      "c.bar = [1, 1]\n",
      "\n",
      "Iter 2\n",
      "i.foo =  5\n",
      "c.foo =  0\n",
      "i.bar = [1, 1, 1]\n",
      "c.bar = [1, 1]\n",
      "\n",
      "Iter 3\n",
      "i.foo =  6\n",
      "c.foo =  0\n",
      "i.bar = [1, 1, 1, 1]\n",
      "c.bar = [1, 1]\n",
      "\n",
      "Iter 4\n",
      "i.foo =  7\n",
      "c.foo =  0\n",
      "i.bar = [1, 1, 1, 1, 1]\n",
      "c.bar = [1, 1]\n",
      "\n"
     ]
    }
   ],
   "source": [
    "for i in range(5):\n",
    "    print(\"Iter\", i)\n",
    "    test1.add_one()\n",
    "    test1.compare_states()\n",
    "    print()"
   ]
  },
  {
   "cell_type": "code",
   "execution_count": null,
   "id": "bbbc2fb0-4d08-434b-ac25-001dbe80dd34",
   "metadata": {},
   "outputs": [],
   "source": []
  }
 ],
 "metadata": {
  "kernelspec": {
   "display_name": "Python 3 (ipykernel)",
   "language": "python",
   "name": "python3"
  },
  "language_info": {
   "codemirror_mode": {
    "name": "ipython",
    "version": 3
   },
   "file_extension": ".py",
   "mimetype": "text/x-python",
   "name": "python",
   "nbconvert_exporter": "python",
   "pygments_lexer": "ipython3",
   "version": "3.11.4"
  }
 },
 "nbformat": 4,
 "nbformat_minor": 5
}
