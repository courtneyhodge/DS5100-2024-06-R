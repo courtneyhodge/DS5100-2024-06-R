{
 "cells": [
  {
   "cell_type": "markdown",
   "id": "94d37859-70cd-409c-92d4-d8dc294c5f3f",
   "metadata": {},
   "source": [
    "# M08 Testing and Verification Notes"
   ]
  },
  {
   "cell_type": "markdown",
   "id": "383b5095-a899-43ad-9072-bc96d9e19555",
   "metadata": {},
   "source": [
    "> Testing\n",
    "* To ensure that our code aligns with our requirements and is of the highest quality we can provide, we follow testing and verification procedures\n",
    "\n",
    "* Testing is an essential part of verification - doing things right\n",
    "\n",
    "* We use specifications to guide program testing\n",
    "\n",
    "* That is, if you don’t have specifications for the product, you cannot verify that you’re doing the right thing\n",
    "\n",
    "\n",
    "* Likewise, if behavior is not defined, then it becomes difficult to know what is Incorrect behavior\n"
   ]
  },
  {
   "cell_type": "markdown",
   "id": "191f2c05-7d3f-4e72-861b-7d7cf729ff0f",
   "metadata": {},
   "source": [
    ">Types of Empirical Testing\n",
    "* There are many kinds of empirical testing, but we will focus on unit testing in this module\n",
    "\n",
    "* Unit Testing is where we write code that tests the smallest possible units of the spec (must attempt to test every flow path.) The programmer does unit testing as part of the coding process\n",
    "\n",
    "> Debugging\n",
    "* Another aspect of testing and verification which we will not cover here is debugging. \n",
    "* Debugging-derived from Grace Hopper's expression \"bug\" -refers to the process of investigating precisley where and when code breaks"
   ]
  },
  {
   "cell_type": "markdown",
   "id": "74a959b5-89f7-4958-824c-40f73666903b",
   "metadata": {},
   "source": [
    "## Exception Handling Overview"
   ]
  },
  {
   "cell_type": "markdown",
   "id": "0ce2fd7e-cb38-4bfe-a8a4-31a0e1ab197e",
   "metadata": {},
   "source": [
    "> Overview\n",
    "* There are two ways that programs can break:\n",
    "* They can meet or not meet the general and specific requirements for the code\n",
    "    * Does it do what is supposed to do?\n",
    "    * Does it add value to a process?\n",
    "    * Is it ethical? Does it do harm?\n",
    "* Approaches to quality\n",
    "    * through good design\n",
    "    * THrough principled testing\n",
    "    \n",
    "> Some testing activities\n",
    "* Syntax checking\n",
    "* Debugging\n",
    "* Ad hoc testing\n",
    "* Unit-testing\n",
    "* User testing\n"
   ]
  },
  {
   "cell_type": "markdown",
   "id": "9625607a-e066-4d0d-b426-38faf588324a",
   "metadata": {},
   "source": [
    "> Errors vs Exceptions\n",
    "* AN error is a serious problem that a reasonable applciation should try to catch.\n",
    "* an error will stop execution. It means the code if broken and needs to be rewritten\n",
    "* AN exception is an issue that is expected or known to occur (eg divison by zero)\n",
    "* Software must handle exceptions, for example, one bad row of data shouldn't bring down the application\n",
    "\n",
    "> Exception Handling\n",
    "* Programming languages offer many tools for testing, including mechanisms to define and capture errors in code\n",
    "* we call these errors exceptions\n",
    "* We call dealing withthese errors exception handling\n",
    "> Python's Tool's\n",
    "* Exceptions\n",
    "    * A type of python object that represents an error, such as a ValueError\n",
    "* Excepion Handlers\n",
    "    * Control structures and functions to deal with exceptions, such as:\n",
    "        * try/except\n",
    "        * raise\n",
    "        * assert\n",
    "        \n",
    "* Unit Testing Frameworks\n",
    "    * Unit test"
   ]
  },
  {
   "cell_type": "markdown",
   "id": "f96fe720-40b4-4cd1-8363-f1733c2ad07f",
   "metadata": {},
   "source": [
    "> Some common built-in exceptions"
   ]
  },
  {
   "cell_type": "code",
   "execution_count": 1,
   "id": "4b40460d-70d9-4d1f-86e6-b87fa01ff9af",
   "metadata": {
    "tags": []
   },
   "outputs": [
    {
     "ename": "ZeroDivisionError",
     "evalue": "division by zero",
     "output_type": "error",
     "traceback": [
      "\u001b[0;31m---------------------------------------------------------------------------\u001b[0m",
      "\u001b[0;31mZeroDivisionError\u001b[0m                         Traceback (most recent call last)",
      "Cell \u001b[0;32mIn[1], line 2\u001b[0m\n\u001b[1;32m      1\u001b[0m \u001b[38;5;66;03m# Zero Division Error\u001b[39;00m\n\u001b[0;32m----> 2\u001b[0m \u001b[38;5;241;43m3\u001b[39;49m\u001b[38;5;241;43m/\u001b[39;49m\u001b[38;5;241;43m0\u001b[39;49m\n",
      "\u001b[0;31mZeroDivisionError\u001b[0m: division by zero"
     ]
    }
   ],
   "source": [
    "# Zero Division Error\n",
    "#3/0"
   ]
  },
  {
   "cell_type": "code",
   "execution_count": 2,
   "id": "52feb50c-1380-4bcd-af40-17e06dcc7cdb",
   "metadata": {
    "tags": []
   },
   "outputs": [],
   "source": [
    "# Syntax Error\n",
    "# if x > 0\n",
    "#    print(\"uh oh\")"
   ]
  },
  {
   "cell_type": "code",
   "execution_count": 3,
   "id": "fe9831db-daf7-4e8d-b11a-f6cccd76a745",
   "metadata": {
    "tags": []
   },
   "outputs": [],
   "source": [
    "#NameError\n",
    "##references an undefined variable\n",
    "# print(x)"
   ]
  },
  {
   "cell_type": "code",
   "execution_count": 5,
   "id": "42ccae93-027c-4a2e-a918-833596cc37c5",
   "metadata": {
    "tags": []
   },
   "outputs": [],
   "source": [
    "# INdex Error\n",
    "## loop goes off the end of the list\n",
    "\n",
    "#lst = [0, 1, 2]\n",
    "\n",
    "#for i in range(4):\n",
    "#    print(lst[i])"
   ]
  },
  {
   "cell_type": "markdown",
   "id": "f9ffaebf-8a17-4b4e-9438-1f28e54829df",
   "metadata": {},
   "source": [
    "## Exception Handling with try/except"
   ]
  },
  {
   "cell_type": "markdown",
   "id": "37681237-5714-45a3-98b1-fb2229434cd5",
   "metadata": {},
   "source": [
    "* We use try/except blocks to handle exceptions in our code"
   ]
  },
  {
   "cell_type": "code",
   "execution_count": 6,
   "id": "30e066bf-3267-4545-a438-4a07c0c46682",
   "metadata": {
    "tags": []
   },
   "outputs": [
    {
     "ename": "NameError",
     "evalue": "name 'a' is not defined",
     "output_type": "error",
     "traceback": [
      "\u001b[0;31m---------------------------------------------------------------------------\u001b[0m",
      "\u001b[0;31mNameError\u001b[0m                                 Traceback (most recent call last)",
      "Cell \u001b[0;32mIn[6], line 1\u001b[0m\n\u001b[0;32m----> 1\u001b[0m \u001b[38;5;28mprint\u001b[39m(\u001b[43ma\u001b[49m)\n",
      "\u001b[0;31mNameError\u001b[0m: name 'a' is not defined"
     ]
    }
   ],
   "source": [
    "print(a)"
   ]
  },
  {
   "cell_type": "code",
   "execution_count": 7,
   "id": "84e7b925-c939-4e4b-8309-f009264e88bc",
   "metadata": {
    "tags": []
   },
   "outputs": [
    {
     "name": "stdout",
     "output_type": "stream",
     "text": [
      "caugh an exception\n"
     ]
    }
   ],
   "source": [
    "try:\n",
    "    print(a)\n",
    "except:\n",
    "    print(\"caugh an exception\")"
   ]
  },
  {
   "cell_type": "markdown",
   "id": "cc040540-f333-49d2-aeaa-2831e3aa554a",
   "metadata": {},
   "source": [
    "## Assert Statmenents"
   ]
  },
  {
   "cell_type": "markdown",
   "id": "cf9b2fe4-fb68-4a54-bf96-2bfd915c1512",
   "metadata": {},
   "source": [
    "* Another way to cathc errors before they happen is to test if computations turned out as excpected\n",
    "\n",
    "* We use assert to verify an expression is True"
   ]
  },
  {
   "cell_type": "code",
   "execution_count": 8,
   "id": "4f86ba57-2978-4c74-933d-3ca82d15178a",
   "metadata": {
    "tags": []
   },
   "outputs": [
    {
     "ename": "SyntaxError",
     "evalue": "invalid syntax (559158578.py, line 1)",
     "output_type": "error",
     "traceback": [
      "\u001b[0;36m  Cell \u001b[0;32mIn[8], line 1\u001b[0;36m\u001b[0m\n\u001b[0;31m    assert Expression[, Arguments]\u001b[0m\n\u001b[0m                      ^\u001b[0m\n\u001b[0;31mSyntaxError\u001b[0m\u001b[0;31m:\u001b[0m invalid syntax\n"
     ]
    }
   ],
   "source": [
    "assert Expression[, Arguments]"
   ]
  },
  {
   "cell_type": "code",
   "execution_count": 9,
   "id": "f963b67f-3477-416e-8cd9-1da4546b5bcf",
   "metadata": {
    "tags": []
   },
   "outputs": [],
   "source": [
    "num_args = 3\n",
    "\n",
    "assert num_args == 3, \"number of arguments must be 3!\""
   ]
  },
  {
   "cell_type": "markdown",
   "id": "d0971616-6497-4edd-9b79-5232212f58a2",
   "metadata": {},
   "source": [
    "* The assert evaluates to True, and things proceed normally without exception\n",
    "\n",
    "* If we change num_args = 4 this will throw an AssertionError with the provided message\n",
    "\n",
    "* The program then stops"
   ]
  },
  {
   "cell_type": "code",
   "execution_count": 10,
   "id": "b48517c5-e286-480c-a7fd-97715ebac039",
   "metadata": {
    "tags": []
   },
   "outputs": [
    {
     "ename": "AssertionError",
     "evalue": "number of arguments must be 3!",
     "output_type": "error",
     "traceback": [
      "\u001b[0;31m---------------------------------------------------------------------------\u001b[0m",
      "\u001b[0;31mAssertionError\u001b[0m                            Traceback (most recent call last)",
      "Cell \u001b[0;32mIn[10], line 3\u001b[0m\n\u001b[1;32m      1\u001b[0m num_args \u001b[38;5;241m=\u001b[39m \u001b[38;5;241m4\u001b[39m\n\u001b[0;32m----> 3\u001b[0m \u001b[38;5;28;01massert\u001b[39;00m num_args \u001b[38;5;241m==\u001b[39m \u001b[38;5;241m3\u001b[39m, \u001b[38;5;124m\"\u001b[39m\u001b[38;5;124mnumber of arguments must be 3!\u001b[39m\u001b[38;5;124m\"\u001b[39m\n",
      "\u001b[0;31mAssertionError\u001b[0m: number of arguments must be 3!"
     ]
    }
   ],
   "source": [
    "num_args = 4\n",
    "\n",
    "assert num_args == 3, \"number of arguments must be 3!\""
   ]
  },
  {
   "cell_type": "markdown",
   "id": "be27de92-4676-483c-ad24-2078bba50ec9",
   "metadata": {},
   "source": [
    "* If the assert is not given a message, it throws AssertionError:"
   ]
  },
  {
   "cell_type": "code",
   "execution_count": 11,
   "id": "a69aa0dd-a593-4479-ae74-8a0ffb47995f",
   "metadata": {
    "tags": []
   },
   "outputs": [
    {
     "ename": "AssertionError",
     "evalue": "",
     "output_type": "error",
     "traceback": [
      "\u001b[0;31m---------------------------------------------------------------------------\u001b[0m",
      "\u001b[0;31mAssertionError\u001b[0m                            Traceback (most recent call last)",
      "Cell \u001b[0;32mIn[11], line 3\u001b[0m\n\u001b[1;32m      1\u001b[0m num_args \u001b[38;5;241m=\u001b[39m \u001b[38;5;241m4\u001b[39m\n\u001b[0;32m----> 3\u001b[0m \u001b[38;5;28;01massert\u001b[39;00m num_args \u001b[38;5;241m==\u001b[39m \u001b[38;5;241m3\u001b[39m\n",
      "\u001b[0;31mAssertionError\u001b[0m: "
     ]
    }
   ],
   "source": [
    "num_args = 4\n",
    "\n",
    "assert num_args == 3"
   ]
  },
  {
   "cell_type": "markdown",
   "id": "8d47b943-0bc7-422f-83c0-a18360d37345",
   "metadata": {},
   "source": [
    "* You can mix try/except blocks and assert statements "
   ]
  },
  {
   "cell_type": "code",
   "execution_count": 12,
   "id": "58f375e1-1550-44bb-8be8-ce3297155ad8",
   "metadata": {
    "tags": []
   },
   "outputs": [
    {
     "name": "stdout",
     "output_type": "stream",
     "text": [
      "Got an error\n"
     ]
    }
   ],
   "source": [
    "try:\n",
    "    assert num_args == 3\n",
    "except:\n",
    "    print(\"Got an error\")"
   ]
  },
  {
   "cell_type": "markdown",
   "id": "3268827b-b74d-464c-a349-7e4ecdbbf3cc",
   "metadata": {},
   "source": [
    "* note that the except message will replace the assert message"
   ]
  },
  {
   "cell_type": "code",
   "execution_count": 13,
   "id": "9f79857c-21eb-494f-b674-fc05ce61a47a",
   "metadata": {
    "tags": []
   },
   "outputs": [
    {
     "name": "stdout",
     "output_type": "stream",
     "text": [
      "Except: Assert: Number of arguments must be 3!\n"
     ]
    }
   ],
   "source": [
    "try:\n",
    "    assert num_args == 3, \"Assert: Number of arguments must be 3!\"\n",
    "except AssertionError as e:\n",
    "    print('Except:', e)"
   ]
  },
  {
   "cell_type": "markdown",
   "id": "ec6b24ea-06ee-4855-a501-f9a8de89383d",
   "metadata": {},
   "source": [
    "## raise()"
   ]
  },
  {
   "cell_type": "markdown",
   "id": "eb843429-903d-4606-a29d-ed654fd6cb64",
   "metadata": {},
   "source": [
    "* Exceptions can be raised too\n",
    "* Use this if you want to halt the program and let other code that is using this code handle it"
   ]
  },
  {
   "cell_type": "code",
   "execution_count": 18,
   "id": "6429988a-0a0a-48c2-a7b5-85c9c327389f",
   "metadata": {
    "tags": []
   },
   "outputs": [],
   "source": [
    "try:\n",
    "    10/1 #change to 10/0\n",
    "except:\n",
    "    raise ZeroDivisionError(\"Hey, you can't divide by zero!\")"
   ]
  },
  {
   "cell_type": "code",
   "execution_count": 16,
   "id": "1331dd21-302f-44aa-9a10-54739dbf815c",
   "metadata": {
    "tags": []
   },
   "outputs": [],
   "source": [
    "#raise IndexError(\"Bad Index\")"
   ]
  },
  {
   "cell_type": "markdown",
   "id": "f48a8818-ddd0-4cfe-93fa-1c5b1cfbf90e",
   "metadata": {},
   "source": [
    "# Unit Testing"
   ]
  },
  {
   "cell_type": "markdown",
   "id": "436be5d0-93d3-4d49-b815-1321275a437c",
   "metadata": {},
   "source": [
    "## Assert Methods"
   ]
  },
  {
   "cell_type": "markdown",
   "id": "ce2bba87-cd98-4740-846e-eab30ccc1903",
   "metadata": {},
   "source": [
    ".assertTrue()"
   ]
  },
  {
   "cell_type": "code",
   "execution_count": 19,
   "id": "6ef84176-7969-414f-bb45-50ba27fae608",
   "metadata": {
    "tags": []
   },
   "outputs": [
    {
     "name": "stderr",
     "output_type": "stream",
     "text": [
      "E\n",
      "======================================================================\n",
      "ERROR: /sfs/qumulo/qhome/yss2zv/ (unittest.loader._FailedTest./sfs/qumulo/qhome/yss2zv/)\n",
      "----------------------------------------------------------------------\n",
      "AttributeError: module '__main__' has no attribute '/sfs/qumulo/qhome/yss2zv/'\n",
      "\n",
      "----------------------------------------------------------------------\n",
      "Ran 1 test in 0.000s\n",
      "\n",
      "FAILED (errors=1)\n"
     ]
    },
    {
     "ename": "SystemExit",
     "evalue": "True",
     "output_type": "error",
     "traceback": [
      "An exception has occurred, use %tb to see the full traceback.\n",
      "\u001b[0;31mSystemExit\u001b[0m\u001b[0;31m:\u001b[0m True\n"
     ]
    },
    {
     "name": "stderr",
     "output_type": "stream",
     "text": [
      "/apps/software/standard/core/jupyterlab/3.6.3-py3.11/lib/python3.11/site-packages/IPython/core/interactiveshell.py:3513: UserWarning: To exit: use 'exit', 'quit', or Ctrl-D.\n",
      "  warn(\"To exit: use 'exit', 'quit', or Ctrl-D.\", stacklevel=1)\n"
     ]
    }
   ],
   "source": [
    "#negative test case\n",
    "import unittest\n",
    "\n",
    "class TestStringMethods(unittest.TestCase):\n",
    "\n",
    "    # test function\n",
    "    def test_negative(self):\n",
    "\n",
    "        testValue = False\n",
    "        \n",
    "        # error message in case if test case got failed\n",
    "        message = \"Test value is not true.\"\n",
    "        \n",
    "        # assertTrue() to check true of test value\n",
    "        self.assertTrue(testValue, message)\n",
    "\n",
    "if __name__ == '__main__':\n",
    "    unittest.main()"
   ]
  },
  {
   "cell_type": "code",
   "execution_count": 21,
   "id": "6df6c083-dde3-45b5-8501-5ec87a5e3108",
   "metadata": {
    "tags": []
   },
   "outputs": [
    {
     "data": {
      "text/plain": [
       "' positive test case\\nimport unittest\\n\\nclass TestStringMethods(unittest.TestCase):\\n    \\n    # test function\\n    def test_positive(self):\\n        \\n        testValue = True\\n        \\n        # error message in case if test case got failed\\n        message = \"Test value is not true.\"\\n        \\n        # assertTrue() to check true of test value\\n        self.assertTrue( testValue, message)\\n\\nif __name__ == \\'__main__\\':\\n    unittest.main()\\n'"
      ]
     },
     "execution_count": 21,
     "metadata": {},
     "output_type": "execute_result"
    }
   ],
   "source": [
    "# positive test case\n",
    "import unittest\n",
    "\n",
    "class TestStringMethods(unittest.TestCase):\n",
    "    \n",
    "    # test function\n",
    "    def test_positive(self):\n",
    "        \n",
    "        testValue = True\n",
    "        \n",
    "        # error message in case if test case got failed\n",
    "        message = \"Test value is not true.\"\n",
    "        \n",
    "        # assertTrue() to check true of test value\n",
    "        self.assertTrue( testValue, message)\n",
    "\n",
    "if __name__ == '__main__':\n",
    "    unittest.main()"
   ]
  },
  {
   "cell_type": "code",
   "execution_count": null,
   "id": "834571a9-47e9-4f44-8e0e-b68055148697",
   "metadata": {},
   "outputs": [],
   "source": []
  }
 ],
 "metadata": {
  "kernelspec": {
   "display_name": "Python 3 (ipykernel)",
   "language": "python",
   "name": "python3"
  },
  "language_info": {
   "codemirror_mode": {
    "name": "ipython",
    "version": 3
   },
   "file_extension": ".py",
   "mimetype": "text/x-python",
   "name": "python",
   "nbconvert_exporter": "python",
   "pygments_lexer": "ipython3",
   "version": "3.11.4"
  }
 },
 "nbformat": 4,
 "nbformat_minor": 5
}
