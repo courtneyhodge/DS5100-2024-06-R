{
 "cells": [
  {
   "cell_type": "markdown",
   "id": "07234010-843b-4236-9f89-db6261f0046c",
   "metadata": {},
   "source": [
    "Course:   DS 5100\n",
    "\n",
    "Term:     Fall 2023 Online\n",
    "\n",
    "Module:   M02 Homework\n",
    "\n",
    "Author:   R.C. Alvarado\n",
    "\n",
    "Date:     19 August 2023"
   ]
  },
  {
   "cell_type": "markdown",
   "id": "5074a95d-5685-4fdc-aaed-e0689da90dc3",
   "metadata": {},
   "source": [
    "---"
   ]
  },
  {
   "cell_type": "markdown",
   "id": "eef05f56-bdb2-4a3b-9fe5-06f9602ef75e",
   "metadata": {},
   "source": [
    "Name: Courtney Hodge\n",
    "\n",
    "Net ID: yss2zv\n",
    "\n",
    "URL of this file in GitHub: https://github.com/courtneyhodge/DS5100-2024-06-R/blob/main/M02_HW_2.ipynb"
   ]
  },
  {
   "cell_type": "code",
   "execution_count": null,
   "id": "5316fc5e-caf7-4bff-894b-596c5d80a45c",
   "metadata": {},
   "outputs": [],
   "source": []
  }
 ],
 "metadata": {
  "kernelspec": {
   "display_name": "Python 3 (ipykernel)",
   "language": "python",
   "name": "python3"
  },
  "language_info": {
   "codemirror_mode": {
    "name": "ipython",
    "version": 3
   },
   "file_extension": ".py",
   "mimetype": "text/x-python",
   "name": "python",
   "nbconvert_exporter": "python",
   "pygments_lexer": "ipython3",
   "version": "3.11.4"
  }
 },
 "nbformat": 4,
 "nbformat_minor": 5
}
