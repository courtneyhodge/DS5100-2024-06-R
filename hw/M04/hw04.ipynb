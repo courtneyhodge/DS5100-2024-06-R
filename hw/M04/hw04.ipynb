{
 "cells": [
  {
   "cell_type": "markdown",
   "id": "0c1c2b92-2952-4019-826a-883ae55ef66b",
   "metadata": {},
   "source": [
    "# Student Info\n",
    "\n",
    "* Name: Courtney Hodge\n",
    "* Net ID: yss2zv\n",
    "* URL of this file in GitHub: https://github.com/courtneyhodge/DS5100-2024-06-R/blob/main/hw/M04/hw04.ipynb"
   ]
  },
  {
   "cell_type": "markdown",
   "id": "9c1b6408-7999-42d1-9360-f03ae217cdcf",
   "metadata": {},
   "source": [
    "# Overview\n",
    "\n",
    "In this homework, you will work with the [Forest Fires Data Set from UCI](https://archive.ics.uci.edu/ml/datasets/Forest+Fires). \n",
    "\n",
    "There is a local copy of these data as a CSV file in the `HW` directory for this module in the course repo.\n",
    "\n",
    "You will create a group of related functions to process these data.\n",
    "\n",
    "This notebook will set the table for you by importing and structuring the data first."
   ]
  },
  {
   "cell_type": "markdown",
   "id": "5b5cafc2-96ad-46ae-a765-d3d1ad9905e5",
   "metadata": {},
   "source": [
    "# Setting Up\n",
    "\n",
    "First, we read in our local copy of the dataset and save it as a list of lines."
   ]
  },
  {
   "cell_type": "code",
   "execution_count": 1,
   "id": "7895790b-942f-41ba-bb4f-2d7352f5ea1b",
   "metadata": {
    "tags": []
   },
   "outputs": [],
   "source": [
    "data_file = open('uci_mldb_forestfires.csv', 'r').readlines()"
   ]
  },
  {
   "cell_type": "code",
   "execution_count": 3,
   "id": "6e1242ed-0854-4d68-8092-ff84c9becf8f",
   "metadata": {
    "tags": []
   },
   "outputs": [
    {
     "name": "stdout",
     "output_type": "stream",
     "text": [
      "X\tY\tmonth\tday\tFFMC\tDMC\tDC\tISI\ttemp\tRH\twind\train\tarea\n",
      "7\t5\tmar\tfri\t86.2\t26.2\t94.3\t5.1\t8.2\t51\t6.7\t0.0\t0.0\n",
      "7\t4\toct\ttue\t90.6\t35.4\t669.1\t6.7\t18.0\t33\t0.9\t0.0\t0.0\n",
      "7\t4\toct\tsat\t90.6\t43.7\t686.9\t6.7\t14.6\t33\t1.3\t0.0\t0.0\n",
      "8\t6\tmar\tfri\t91.7\t33.3\t77.5\t9.0\t8.3\t97\t4.0\t0.2\t0.0\n",
      "8\t6\tmar\tsun\t89.3\t51.3\t102.2\t9.6\t11.4\t99\t1.8\t0.0\t0.0\n",
      "8\t6\taug\tsun\t92.3\t85.3\t488.0\t14.7\t22.2\t29\t5.4\t0.0\t0.0\n",
      "8\t6\taug\tmon\t92.3\t88.9\t495.6\t8.5\t24.1\t27\t3.1\t0.0\t0.0\n",
      "8\t6\taug\tmon\t91.5\t145.4\t608.2\t10.7\t8.0\t86\t2.2\t0.0\t0.0\n",
      "8\t6\tsep\ttue\t91.0\t129.5\t692.6\t7.0\t13.1\t63\t5.4\t0.0\t0.0\n"
     ]
    }
   ],
   "source": [
    "for row in data_file[:10]:\n",
    "    row = row.replace(',', '\\t')\n",
    "    print(row, end='')"
   ]
  },
  {
   "cell_type": "markdown",
   "id": "5297d589-5e8d-4d03-8cc7-d4a20a116539",
   "metadata": {},
   "source": [
    "## Convert CSV into Datafame-like Data Structure\n",
    "\n",
    "We use a helper function to convert the data into the form of a dataframe-like dictionary. \n",
    "\n",
    "That is, we convert a list of rows into a dictionary of columns, each cast to the appropriate data type.\n",
    "\n",
    "Later, we will use Pandas and R dataframes to do this work.\n",
    "\n",
    "First, we define the data types by inspecting the data and creating a dictionary of lambda functions to do our casting."
   ]
  },
  {
   "cell_type": "code",
   "execution_count": 4,
   "id": "68f8fe54-5e5f-4194-902e-4f82ebfcee3e",
   "metadata": {
    "tags": []
   },
   "outputs": [],
   "source": [
    "dtypes = ['i', 'i', 's', 's', 'f', 'f', 'f', 'f', 'f', 'i', 'f', 'f', 'f']\n",
    "# dtypes = list(\"iissfffffifff\") # We could have done it this way, too\n",
    "\n",
    "caster = {\n",
    "    'i': lambda x: int(x),\n",
    "    's': lambda x: str(x),\n",
    "    'f': lambda x: float(x)\n",
    "}"
   ]
  },
  {
   "cell_type": "markdown",
   "id": "46a44d8b-91f9-471b-b534-91c06b34ab13",
   "metadata": {},
   "source": [
    "Next, we grab the column names from the first row or list.\n",
    "\n",
    "Note that `.strip()` is a string function that removes extra whitespace from before and after a string."
   ]
  },
  {
   "cell_type": "code",
   "execution_count": 5,
   "id": "6bb723c9-60bc-4a0d-a97d-144d4887f6a5",
   "metadata": {
    "tags": []
   },
   "outputs": [],
   "source": [
    "cols = data_file[0].strip().split(',')"
   ]
  },
  {
   "cell_type": "code",
   "execution_count": 7,
   "id": "b8012034-b226-4b98-938d-15e39a82b5c2",
   "metadata": {
    "tags": []
   },
   "outputs": [],
   "source": [
    "# Get the rows, but not the first, and convert them into lists\n",
    "rows = [line.strip().split(',') for line in data_file[1:]]\n",
    "\n",
    "# Initialize the dataframe by defining a dictionary of lists, with each column name as a key\n",
    "firedata = {col:[] for col in cols}\n",
    "\n",
    "# Iterate through the rows and convert them to columns \n",
    "for row in rows:\n",
    "    for j, col in enumerate(row):\n",
    "        firedata[cols[j]].append(caster[dtypes[j]](col))"
   ]
  },
  {
   "cell_type": "code",
   "execution_count": 8,
   "id": "8cc1672b-0165-48ca-98b3-756fad236391",
   "metadata": {
    "tags": []
   },
   "outputs": [
    {
     "data": {
      "text/plain": [
       "[5, 4, 4, 6, 6]"
      ]
     },
     "execution_count": 8,
     "metadata": {},
     "output_type": "execute_result"
    }
   ],
   "source": [
    "firedata['Y'][:5]"
   ]
  },
  {
   "cell_type": "code",
   "execution_count": null,
   "id": "03e0fdc0-4c2a-4dba-aca8-3ba7d9f52a89",
   "metadata": {
    "tags": []
   },
   "outputs": [],
   "source": [
    "firedata"
   ]
  },
  {
   "cell_type": "markdown",
   "id": "8e6e66e3-17d1-44e4-98b9-64f8d41a2fdc",
   "metadata": {},
   "source": [
    "# Working with spatial coordinates `X`, `Y`\n",
    "\n",
    "For the first tasks, we grab the first two columns of our table, which define the spatial coordinates within \n",
    "the Monteshino park map."
   ]
  },
  {
   "cell_type": "code",
   "execution_count": 10,
   "id": "820cf20d-41f7-46b0-9cd4-3646350a2e7b",
   "metadata": {
    "tags": []
   },
   "outputs": [],
   "source": [
    "X, Y = firedata['X'], firedata['Y']"
   ]
  },
  {
   "cell_type": "code",
   "execution_count": 11,
   "id": "7f70a77b-170d-4057-86dd-a754d4433294",
   "metadata": {
    "tags": []
   },
   "outputs": [
    {
     "data": {
      "text/plain": [
       "([7, 7, 7, 8, 8, 8, 8, 8, 8, 7], [5, 4, 4, 6, 6, 6, 6, 6, 6, 5])"
      ]
     },
     "execution_count": 11,
     "metadata": {},
     "output_type": "execute_result"
    }
   ],
   "source": [
    "X[:10], Y[:10]"
   ]
  },
  {
   "cell_type": "markdown",
   "id": "bb04b54f-b030-4dae-bf85-ecd92ca745f0",
   "metadata": {},
   "source": [
    "## Task 1\n",
    "\n",
    "(2 points)\n",
    "\n",
    "Write a function called `coord_builder()` with these requirements:\n",
    "\n",
    "- Takes two lists, X and Y, as inputs. X and Y must be of equal length.\n",
    "- Returns a list of tuples `[(x1,y1), (x2,y2), ..., (xn,yn)]` where `(xi,yi)` are the ordered pairs from X and Y.\n",
    "- Uses the `zip()` function to create the returned list.\n",
    "- Use a list comprehension to actually build the returned list.\n",
    "- Contains a docstring with short description of the function."
   ]
  },
  {
   "cell_type": "code",
   "execution_count": 15,
   "id": "e3a0ebf8-c4f2-4cb9-be70-314f21c0bef8",
   "metadata": {
    "tags": []
   },
   "outputs": [],
   "source": [
    "def coord_builder(X, Y):\n",
    "  \"\"\"\n",
    "  Takes two lists, X and Y, as inputs. X and Y must be of equal length.\n",
    "  Returns a list of tuples where (xi, yi) are the ordered pairs from X and Y.\n",
    "  \"\"\"\n",
    "  list_result = [(x, y) for x, y in zip(X, Y) if len(X) == len(Y) ]\n",
    "  return(list_result)\n",
    "       \n",
    "    "
   ]
  },
  {
   "cell_type": "code",
   "execution_count": 16,
   "id": "9f0e7a0a-a717-4c3e-8b7d-942ad5e17d55",
   "metadata": {
    "tags": []
   },
   "outputs": [
    {
     "data": {
      "text/plain": [
       "[('H', 'M'), ('e', 'M'), ('l', 'M'), ('l', 'M'), ('o', 'M')]"
      ]
     },
     "execution_count": 16,
     "metadata": {},
     "output_type": "execute_result"
    }
   ],
   "source": [
    "coord_builder(\"Hello\", \"MMMMM\")"
   ]
  },
  {
   "cell_type": "markdown",
   "id": "b0917777-f199-4fdf-90ba-d044b194359a",
   "metadata": {},
   "source": [
    "## Task 2\n",
    "\n",
    "(1 PT) \n",
    "\n",
    "Call your `coord_builder()` function, passing in `X` and `Y`.  \n",
    "\n",
    "Then print the first ten tuples."
   ]
  },
  {
   "cell_type": "code",
   "execution_count": 17,
   "id": "57c80e32-2550-4f5a-b898-f9b228357828",
   "metadata": {
    "tags": []
   },
   "outputs": [
    {
     "name": "stdout",
     "output_type": "stream",
     "text": [
      "[(7, 5), (7, 4), (7, 4), (8, 6), (8, 6), (8, 6), (8, 6), (8, 6), (8, 6), (7, 5)]\n"
     ]
    }
   ],
   "source": [
    "my_X_Y_list_of_tuples = coord_builder(X, Y)\n",
    "print(my_X_Y_list_of_tuples[:10])"
   ]
  },
  {
   "cell_type": "markdown",
   "id": "3844de0d-cc1f-45f2-ad8f-26d4b171b2e8",
   "metadata": {},
   "source": [
    "# Working with AREA\n",
    "\n",
    "Next, we work the area column of our data."
   ]
  },
  {
   "cell_type": "code",
   "execution_count": 18,
   "id": "7464b706-da0b-442e-9c72-dc2b23740616",
   "metadata": {
    "tags": []
   },
   "outputs": [],
   "source": [
    "area = firedata['area']"
   ]
  },
  {
   "cell_type": "code",
   "execution_count": null,
   "id": "a28e4e31-b743-491b-b07b-7c541bb5d598",
   "metadata": {},
   "outputs": [],
   "source": [
    "area[-10:]"
   ]
  },
  {
   "cell_type": "markdown",
   "id": "5be77898-7c44-4769-852e-e496e1730f83",
   "metadata": {},
   "source": [
    "## Task 3\n",
    "\n",
    "(1 PT)\n",
    "    \n",
    "Write code to print the minimum area and maximum area in a tuple\n",
    "`(min_value, max_value)`.\n",
    "\n",
    "Save `min_value` and `max_value` as floats."
   ]
  },
  {
   "cell_type": "code",
   "execution_count": 20,
   "id": "6ff0b9db-6de9-4361-9c4d-b9cf980a827f",
   "metadata": {
    "tags": []
   },
   "outputs": [
    {
     "name": "stdout",
     "output_type": "stream",
     "text": [
      "(0.0, 1090.84)\n"
     ]
    },
    {
     "data": {
      "text/plain": [
       "float"
      ]
     },
     "execution_count": 20,
     "metadata": {},
     "output_type": "execute_result"
    }
   ],
   "source": [
    "min_value = min(firedata['area'])\n",
    "max_value = max(firedata['area'])\n",
    "\n",
    "min_and_max_area = (min_value, max_value)\n",
    "print(min_and_max_area)\n",
    "\n",
    "type(min_value)"
   ]
  },
  {
   "cell_type": "markdown",
   "id": "971d30a5-a9ac-47bb-89b3-a19c453920d8",
   "metadata": {},
   "source": [
    "## Task 4\n",
    "\n",
    "(2 PTS)\n",
    "\n",
    "Write a lambda function that applies the following function to $x$:   \n",
    "\n",
    "> $log_{10}(1 + x)$\n",
    "\n",
    "Return the rounded value to $2$ decimals.\n",
    "\n",
    "Assign the function to the variable `mylog10`.\n",
    "\n",
    "Then call the lambda function on `area` and print the last 10 values.  \n",
    "\n",
    "Hints: \n",
    "* Use the `log10` function from Python's [`math` module](https://docs.python.org/3/library/math.html). You'll need to import it.\n",
    "* Use a list comprehension to make the lambda function a one-liner.\n",
    "* To get the last members of a list, used negative offset slicing. See [the Python documentation on lists](https://docs.python.org/3/tutorial/introduction.html#lists) for a refresher on slicing."
   ]
  },
  {
   "cell_type": "code",
   "execution_count": 21,
   "id": "b7c846db-c631-45bf-9394-7ea8eb334e07",
   "metadata": {
    "tags": []
   },
   "outputs": [
    {
     "name": "stdout",
     "output_type": "stream",
     "text": [
      "[0.0, 0.0, 0.5, 0.16, 0.0, 0.87, 1.74, 1.08, 0.0, 0.0]\n"
     ]
    }
   ],
   "source": [
    "import math\n",
    "mylog10 = lambda x: round(math.log10(1 + x), 2)\n",
    "result = [mylog10(x) for x in area]\n",
    "print(result[-10:])"
   ]
  },
  {
   "cell_type": "markdown",
   "id": "4f5dbb1f-489a-46b9-85c9-44222ce83c40",
   "metadata": {},
   "source": [
    "# Working with MONTH\n",
    "\n",
    "The month column contains months of the year in abbreviated form &mdash; `jan` to `dec`."
   ]
  },
  {
   "cell_type": "code",
   "execution_count": 22,
   "id": "4168a964-71dd-41ee-b3b8-6bce3d372a65",
   "metadata": {
    "tags": []
   },
   "outputs": [],
   "source": [
    "month = firedata['month']"
   ]
  },
  {
   "cell_type": "code",
   "execution_count": 23,
   "id": "beb66448-6487-4dfb-bd83-92ea553b55ba",
   "metadata": {
    "tags": []
   },
   "outputs": [
    {
     "data": {
      "text/plain": [
       "['mar', 'oct', 'oct', 'mar', 'mar', 'aug', 'aug', 'aug', 'sep', 'sep']"
      ]
     },
     "execution_count": 23,
     "metadata": {},
     "output_type": "execute_result"
    }
   ],
   "source": [
    "month[:10]"
   ]
  },
  {
   "cell_type": "markdown",
   "id": "f11460a7-9f6d-4523-bfe7-7bca60d4c5ad",
   "metadata": {},
   "source": [
    "## Task 5\n",
    "\n",
    "(1 PT)\n",
    "\n",
    "Create a function called `get_uniques()` that extracts the unique values from a list. \n",
    "* Do not use `set()` but instead use a **dictionary comprehension** to capture the unique names.\n",
    "* Hint: They keys in a dictionary are unique.\n",
    "* Hint: You do not need to count how many times a name appears in the source list.\n",
    "\n",
    "Then function should optionally return the list as sorted in ascending order. \n",
    "\n",
    "Then apply it to the `month` column of our data with sorting turned on. \n",
    "\n",
    "Then print the unique months.  \n"
   ]
  },
  {
   "cell_type": "code",
   "execution_count": 27,
   "id": "07b09872-b85b-482d-b8d0-2c1ebeea5269",
   "metadata": {
    "tags": []
   },
   "outputs": [
    {
     "data": {
      "text/plain": [
       "['apr',\n",
       " 'aug',\n",
       " 'dec',\n",
       " 'feb',\n",
       " 'jan',\n",
       " 'jul',\n",
       " 'jun',\n",
       " 'mar',\n",
       " 'may',\n",
       " 'nov',\n",
       " 'oct',\n",
       " 'sep']"
      ]
     },
     "execution_count": 27,
     "metadata": {},
     "output_type": "execute_result"
    }
   ],
   "source": [
    "#dictionary comprehension expressions take the form k:v\n",
    "def get_uniques():\n",
    "  \"\"\"\n",
    "  Create a function called get_uniques() that extracts the unique values from a list. \n",
    "  Do not use set() but instead use a dictionary comprehension to capture the unique names.\n",
    "  \"\"\"\n",
    "  unique_values_from_a_list = list({month: None for month in firedata['month']}.keys())\n",
    "  return sorted(unique_values_from_a_list)\n",
    "\n",
    "get_uniques()"
   ]
  },
  {
   "cell_type": "markdown",
   "id": "beb55fd7-70c3-49f2-836f-75160bfbfefe",
   "metadata": {},
   "source": [
    "## Task 6\n",
    "\n",
    "(1 PT)\n",
    "\n",
    "Write a lambda function called `get_month_for_letter` that uses a list comprehension to select all months starting with a given letter\n",
    "from the list of unique month names you just crreated. \n",
    "\n",
    "The function should assume that the list of unique month names exists in the global context.\n",
    "\n",
    "The returned list should contain uppercase strings. \n",
    "\n",
    "Run and print the result with `a` as the paramter."
   ]
  },
  {
   "cell_type": "code",
   "execution_count": 28,
   "id": "23e24652-36da-47dc-a0f9-dbeef2491cab",
   "metadata": {
    "tags": []
   },
   "outputs": [
    {
     "data": {
      "text/plain": [
       "['APR', 'AUG']"
      ]
     },
     "execution_count": 28,
     "metadata": {},
     "output_type": "execute_result"
    }
   ],
   "source": [
    "#assumes that the list ... exists in the global context\n",
    "global unique_months_from_a_list\n",
    "unique_months_from_a_list = get_uniques()\n",
    "\n",
    "get_month_for_letter = lambda x:[month.upper() for month in unique_months_from_a_list if month.startswith(x)]\n",
    "get_month_for_letter(\"a\")"
   ]
  },
  {
   "cell_type": "markdown",
   "id": "6cb62a2d-8cfd-4d0e-926e-5c584525fc7d",
   "metadata": {},
   "source": [
    "# Working with DMC\n",
    "DMC - DMC index from the FWI system: 1.1 to 291.3  "
   ]
  },
  {
   "cell_type": "code",
   "execution_count": 29,
   "id": "35ff1beb-f2aa-4f3d-bed3-fa12d42a3fa6",
   "metadata": {
    "tags": []
   },
   "outputs": [],
   "source": [
    "dmc = firedata['DMC']"
   ]
  },
  {
   "cell_type": "code",
   "execution_count": 30,
   "id": "151878a1-7191-4e68-9d6e-74b5dc1bd766",
   "metadata": {
    "tags": []
   },
   "outputs": [
    {
     "data": {
      "text/plain": [
       "[26.2, 35.4, 43.7, 33.3, 51.3, 85.3, 88.9, 145.4, 129.5, 88.0]"
      ]
     },
     "execution_count": 30,
     "metadata": {},
     "output_type": "execute_result"
    }
   ],
   "source": [
    "dmc[:10]"
   ]
  },
  {
   "cell_type": "markdown",
   "id": "935fa984-e4ea-451e-8172-8d7db8d651a0",
   "metadata": {},
   "source": [
    "## Task 7\n",
    "\n",
    "(2 PTS)\n",
    "\n",
    "Write a function called `bandpass_filter()` with these requirements:\n",
    "\n",
    "- Takes three inputs: \n",
    "  - A list of numbers `num_list`.\n",
    "  - An integer serving as a lower bound `lower_bound`.\n",
    "  - An integer serving as an upper bound `upper_bound`.\n",
    "- Returns a new array containing only the values from the original array which are greater than `lower_bound` and less than `upper_bound`."
   ]
  },
  {
   "cell_type": "code",
   "execution_count": 32,
   "id": "717ae1e9-706b-44a8-bed6-2c92af051349",
   "metadata": {
    "tags": []
   },
   "outputs": [],
   "source": [
    "def bandpass_filter(num_list, lower_bound, upper_bound):\n",
    "  \"\"\"\n",
    "  Takes three inputs: \n",
    "  A list of numbers num_list.\n",
    "  An integer serving as a lower bound lower_bound.\n",
    "  An integer serving as an upper bound upper_bound.\n",
    "  \"\"\"\n",
    "  return [num for num in num_list if lower_bound < num < upper_bound]\n",
    "\n",
    "bandpass_filter(dmc, 25, 30)"
   ]
  },
  {
   "cell_type": "markdown",
   "id": "d2c26255-a791-440f-b36c-ef1bf42bdc3b",
   "metadata": {},
   "source": [
    "## Task 8\n",
    "\n",
    "(1 PT)\n",
    "\n",
    "Call `bandpass_filter()` passing `dmc` as the list, with `lower_bound=25` and `upper_bound=35`. \n",
    "\n",
    "Then print the result.\n"
   ]
  },
  {
   "cell_type": "code",
   "execution_count": 33,
   "id": "b7a8e5ee-2a11-402c-a918-49079f1b21e9",
   "metadata": {
    "tags": []
   },
   "outputs": [
    {
     "name": "stdout",
     "output_type": "stream",
     "text": [
      "[26.2, 33.3, 32.8, 27.9, 27.4, 25.7, 33.3, 33.3, 30.7, 33.3, 25.7, 25.7, 25.7, 32.8, 27.2, 27.8, 26.4, 25.4, 25.4, 25.4, 25.4, 26.7, 25.4, 27.5, 28.0, 25.4]\n"
     ]
    }
   ],
   "source": [
    "print(bandpass_filter(dmc, 25, 35))"
   ]
  },
  {
   "cell_type": "markdown",
   "id": "a29b86ad-8c0e-4b0a-a727-bf86502f6368",
   "metadata": {},
   "source": [
    "# Working with FFMC\n",
    "FFMC - FFMC index from the FWI system: 18.7 to 96.20"
   ]
  },
  {
   "cell_type": "code",
   "execution_count": 34,
   "id": "075c5903-f3f6-438f-8734-634870e12a56",
   "metadata": {
    "tags": []
   },
   "outputs": [],
   "source": [
    "ffmc = firedata['FFMC']"
   ]
  },
  {
   "cell_type": "code",
   "execution_count": 35,
   "id": "8954d406-0cff-4d73-83de-112bd77a8472",
   "metadata": {
    "tags": []
   },
   "outputs": [
    {
     "data": {
      "text/plain": [
       "[86.2, 90.6, 90.6, 91.7, 89.3, 92.3, 92.3, 91.5, 91.0, 92.5]"
      ]
     },
     "execution_count": 35,
     "metadata": {},
     "output_type": "execute_result"
    }
   ],
   "source": [
    "ffmc[:10]"
   ]
  },
  {
   "cell_type": "markdown",
   "id": "25d56b74-3f9a-4153-ac8a-b9e15915d22b",
   "metadata": {},
   "source": [
    "## Task 9\n",
    "\n",
    "(2 PTS)\n",
    "\n",
    "Write a lambda function `get_mean` that computes the mean $\\mu$ of a list of numbers.\n",
    "* The mean is jus the sum of a list of numeric values divided by the length of that list.\n",
    "\n",
    "Write another lambda function `get_ssd` that computes the squared deviation of a number.\n",
    "* The function takes two arguments, a number from a given list and the mean of the numbers in that list.\n",
    "* The function is meant to be used in a for-loop that iterates through a list.\n",
    "* The squared deviation of a list element $x_i$ is $(x_i - \\mu)^2$.\n",
    "\n",
    "Then write `get_sum_sq_err()` with these requirements:\n",
    "* Takes a numeric list as input.\n",
    "* Computes the mean $\\mu$ of the list using `get_mean`. \n",
    "* Computes the sum of squared deviations for the list using a list comprehension that applies `get_ssd`.\n",
    "* Returns the sum of squared deviations."
   ]
  },
  {
   "cell_type": "code",
   "execution_count": 36,
   "id": "315a9722-00b9-4598-8bf5-824acac2db05",
   "metadata": {
    "tags": []
   },
   "outputs": [],
   "source": [
    "#get_mean calculates the mean\n",
    "get_mean = lambda x: sum(x)/len(x)\n",
    "\n",
    "#get ssd calculates the squared deviation\n",
    "get_ssd = lambda x, get_mean: [(x - get_mean)**2 for x in x]\n",
    "\n",
    "def get_sum_sq_err(ffmc):\n",
    "  \"\"\"\n",
    "  computes the mean of the list using get_mean\n",
    "  computes the sum of squared deviations for the list using a list comprehension that applies get_ssd\n",
    "  \"\"\"\n",
    "  return sum(get_ssd(ffmc, get_mean(ffmc)))"
   ]
  },
  {
   "cell_type": "markdown",
   "id": "8f0386d1-d48a-405d-b145-cca7a32c8007",
   "metadata": {},
   "source": [
    "## Task 10\n",
    "\n",
    "(1 PT)\n",
    "\n",
    "Call `sum_sq_err()` passing `ffmc` as the list and print the result."
   ]
  },
  {
   "cell_type": "code",
   "execution_count": 37,
   "id": "a1ae246c-7b50-48d9-9907-5dee67642a1e",
   "metadata": {
    "tags": []
   },
   "outputs": [
    {
     "data": {
      "text/plain": [
       "15723.357872340412"
      ]
     },
     "execution_count": 37,
     "metadata": {},
     "output_type": "execute_result"
    }
   ],
   "source": [
    "get_sum_sq_err(ffmc)"
   ]
  },
  {
   "cell_type": "code",
   "execution_count": null,
   "id": "7a06c799-f0a2-4b79-ba5a-b032cd8a49e5",
   "metadata": {},
   "outputs": [],
   "source": []
  }
 ],
 "metadata": {
  "kernelspec": {
   "display_name": "Python 3 (ipykernel)",
   "language": "python",
   "name": "python3"
  },
  "language_info": {
   "codemirror_mode": {
    "name": "ipython",
    "version": 3
   },
   "file_extension": ".py",
   "mimetype": "text/x-python",
   "name": "python",
   "nbconvert_exporter": "python",
   "pygments_lexer": "ipython3",
   "version": "3.11.4"
  }
 },
 "nbformat": 4,
 "nbformat_minor": 5
}
