{
 "cells": [
  {
   "cell_type": "markdown",
   "id": "11400aa5-198b-4e71-bb89-70bc778da3e1",
   "metadata": {},
   "source": [
    "# Metadata\n",
    "\n",
    "```yaml\n",
    "Course:   DS 5100\n",
    "Module:   05 Numpy HW\n",
    "Topic:    Capital Asset Pricing Model (CAPM)\n",
    "Author:   R.C. Alvarado (revised)\n",
    "Date:     7 July 2023\n",
    "```"
   ]
  },
  {
   "cell_type": "markdown",
   "id": "380e0c4f-dcb6-4d42-8515-c89e9ad52f03",
   "metadata": {},
   "source": [
    "# Student Info\n",
    "\n",
    "* Name: Courtney Hodge\n",
    "* Net ID: yss2zv\n",
    "* URL of this file in GitHub:"
   ]
  },
  {
   "cell_type": "markdown",
   "id": "22b15efa-f65f-414f-96d0-9089be52ed53",
   "metadata": {},
   "source": [
    "# Instructions\n",
    "\n",
    "In your **private course repo on Rivanna**, use this Jupyter notebook and the data file `capm_market_data.csv` to write code that performs the tasks below. The data file is in the HW directory of this module in the course repo.\n",
    "\n",
    "Save your notebook in the `M05` directory.\n",
    "\n",
    "Remember to add and commit these files to your repo.\n",
    "\n",
    "Then push your commits to your repo on GitHib.\n",
    "\n",
    "Be sure to fill out the **Student Info** block above.\n",
    "\n",
    "To submit your homework, save the notebook as a PDF and upload it to GradeScope, following the instructions.\n",
    "\n",
    "**TOTAL POINTS: 10**"
   ]
  },
  {
   "cell_type": "markdown",
   "id": "5f8ac9e9-79b5-41a6-8703-54b865dd8a68",
   "metadata": {},
   "source": [
    "# Overview\n",
    "\n",
    "<!-- In this exer Use NumPy and functions to\n",
    "* compute a stock's CAPM beta\n",
    "* perform sensitivity analysis\n",
    "* understand how the data points impact the beta estimate\n",
    " -->\n",
    "\n",
    "In finance, a capital asset pricing model (CAPM) is a single-factor regression model used to explain and predict excess stock returns.\n",
    "\n",
    "There are better, more accurate models, but CAPM has its uses.\n",
    "\n",
    "For example, the **market beta** $\\beta_i$ a useful output.\n",
    "\n",
    "Here is the formula for calculating the expected excess return:\n",
    "\n",
    "$E[R_i] - R_f  = \\beta_i ( E[R_m] - R_f )$\n",
    "\n",
    "where:\n",
    "\n",
    "* $ER_i$: expected return of stock $i$\n",
    "* $R_f$: risk-free rate\n",
    "* $\\beta_i$: market beta of the stock\n",
    "* $ER_m - R_f$: market risk premium\n",
    "\n",
    "**Review the instructions below to complete the requested tasks.**\n",
    "\n",
    "**TOTAL POINTS: 10**"
   ]
  },
  {
   "cell_type": "markdown",
   "id": "195bbd19-2922-4517-b38e-24f3ac7ecaad",
   "metadata": {},
   "source": [
    "# Setting Up"
   ]
  },
  {
   "cell_type": "code",
   "execution_count": 1,
   "id": "160a3caf-76c0-47a4-b82a-3b6086dd8c53",
   "metadata": {
    "tags": []
   },
   "outputs": [],
   "source": [
    "import numpy as np"
   ]
  },
  {
   "cell_type": "markdown",
   "id": "0bde3b10-b0fe-4b7a-8a8a-82f0bf2f7551",
   "metadata": {},
   "source": [
    "Define Risk-free Treasury rate. You will use this constant below."
   ]
  },
  {
   "cell_type": "code",
   "execution_count": 2,
   "id": "83021b51-93b3-41bc-b428-63c5feee5fea",
   "metadata": {
    "tags": []
   },
   "outputs": [],
   "source": [
    "R_f = 0.0175 / 252"
   ]
  },
  {
   "cell_type": "markdown",
   "id": "49e7391b-8d19-421b-aaf5-8ec09c0832dd",
   "metadata": {},
   "source": [
    "# Prepare the Data\n",
    "\n",
    "We import the data and convert it into usable Numby arrays."
   ]
  },
  {
   "cell_type": "markdown",
   "id": "d5f51f94-8e56-4b0f-a1ee-891e31c9a9e5",
   "metadata": {},
   "source": [
    "**Read in the market data**\n",
    "\n",
    "The values are closing prices, adjusted for splits and dividends.\n",
    "\n",
    "The prefixes of the second two columns are based on the following codes:\n",
    "* SPY is an ETF for the S&P 500 (i.e. the stock market as whole)\n",
    "* AAPL stands for Apple  "
   ]
  },
  {
   "cell_type": "code",
   "execution_count": 7,
   "id": "1b95ef36-bc31-4adb-8493-89e0799a844f",
   "metadata": {
    "tags": []
   },
   "outputs": [],
   "source": [
    "data_file = \"capm_market_data-2.csv\""
   ]
  },
  {
   "cell_type": "code",
   "execution_count": 8,
   "id": "07de2c17-1336-4fb2-9cea-cd8059d278f7",
   "metadata": {
    "tags": []
   },
   "outputs": [
    {
     "data": {
      "text/plain": [
       "array([['date', 'spy_adj_close', 'aapl_adj_close'],\n",
       "       ['2020-01-02', '321.555786132812', '298.829956054687'],\n",
       "       ['2020-01-03', '319.120910644531', '295.924713134766'],\n",
       "       ['2020-01-06', '320.33837890625', '298.28271484375'],\n",
       "       ['2020-01-07', '319.437652587891', '296.8798828125'],\n",
       "       ['2020-01-08', '321.140106201172', '301.655548095703'],\n",
       "       ['2020-01-09', '323.317626953125', '308.06298828125'],\n",
       "       ['2020-01-10', '322.38720703125', '308.759399414062'],\n",
       "       ['2020-01-13', '324.604400634766', '315.355865478516'],\n",
       "       ['2020-01-14', '324.109497070312', '311.097534179687'],\n",
       "       ['2020-01-15', '324.841918945312', '309.764312744141'],\n",
       "       ['2020-01-16', '327.544097900391', '313.644561767578'],\n",
       "       ['2020-01-17', '328.563598632812', '317.116943359375'],\n",
       "       ['2020-01-21', '327.920227050781', '314.967864990234'],\n",
       "       ['2020-01-22', '327.959808349609', '316.092163085937'],\n",
       "       ['2020-01-23', '328.3359375', '317.614410400391'],\n",
       "       ['2020-01-24', '325.416015625', '316.699035644531'],\n",
       "       ['2020-01-27', '320.199798583984', '307.386413574219'],\n",
       "       ['2020-01-28', '323.555206298828', '316.082183837891'],\n",
       "       ['2020-01-29', '323.287933349609', '322.698516845703'],\n",
       "       ['2020-01-30', '324.337127685547', '322.230895996094'],\n",
       "       ['2020-01-31', '318.447845458984', '307.943603515625'],\n",
       "       ['2020-02-03', '320.813446044922', '307.097900390625'],\n",
       "       ['2020-02-04', '325.703063964844', '317.236297607422'],\n",
       "       ['2020-02-05', '329.464294433594', '319.823181152344'],\n",
       "       ['2020-02-06', '330.572875976562', '323.564117431641'],\n",
       "       ['2020-02-07', '328.81103515625', '319.166015625'],\n",
       "       ['2020-02-10', '331.265716552734', '320.681915283203'],\n",
       "       ['2020-02-11', '331.839813232422', '318.747131347656'],\n",
       "       ['2020-02-12', '333.977783203125', '326.316680908203'],\n",
       "       ['2020-02-13', '333.621429443359', '323.992950439453'],\n",
       "       ['2020-02-14', '334.155944824219', '324.07275390625'],\n",
       "       ['2020-02-18', '333.294799804687', '318.138793945312'],\n",
       "       ['2020-02-19', '334.888397216797', '322.746337890625'],\n",
       "       ['2020-02-20', '333.512573242187', '319.435272216797'],\n",
       "       ['2020-02-21', '330.077972412109', '312.204864501953'],\n",
       "       ['2020-02-24', '319.130828857422', '297.375'],\n",
       "       ['2020-02-25', '309.46044921875', '287.302276611328'],\n",
       "       ['2020-02-26', '308.322204589844', '291.859924316406'],\n",
       "       ['2020-02-27', '294.474914550781', '272.781585693359'],\n",
       "       ['2020-02-28', '293.237701416016', '272.622009277344'],\n",
       "       ['2020-03-02', '305.936767578125', '298.003295898437'],\n",
       "       ['2020-03-03', '297.177062988281', '288.538940429688'],\n",
       "       ['2020-03-04', '309.668304443359', '301.922698974609'],\n",
       "       ['2020-03-05', '299.374420166016', '292.129211425781'],\n",
       "       ['2020-03-06', '294.425415039063', '288.249725341797'],\n",
       "       ['2020-03-09', '271.432434082031', '265.451446533203'],\n",
       "       ['2020-03-10', '285.477691650391', '284.569671630859'],\n",
       "       ['2020-03-11', '271.561065673828', '274.686431884766'],\n",
       "       ['2020-03-12', '245.578887939453', '247.559860229492'],\n",
       "       ['2020-03-13', '266.572509765625', '277.219573974609'],\n",
       "       ['2020-03-16', '237.40315246582', '241.556121826172'],\n",
       "       ['2020-03-17', '250.221038818359', '252.177368164062'],\n",
       "       ['2020-03-18', '237.551620483398', '246.00407409668'],\n",
       "       ['2020-03-19', '238.056396484375', '244.119171142578'],\n",
       "       ['2020-03-20', '227.797561645508', '228.621139526367'],\n",
       "       ['2020-03-23', '221.973190307617', '223.764266967773'],\n",
       "       ['2020-03-24', '242.084686279297', '246.213516235352'],\n",
       "       ['2020-03-25', '245.708724975586', '244.857177734375'],\n",
       "       ['2020-03-26', '260.055603027344', '257.742309570312'],\n",
       "       ['2020-03-27', '252.309692382812', '247.071182250977'],\n",
       "       ['2020-03-30', '260.503631591797', '254.122100830078'],\n",
       "       ['2020-03-31', '256.620727539062', '253.603500366211'],\n",
       "       ['2020-04-01', '245.071533203125', '240.259628295898'],\n",
       "       ['2020-04-02', '250.726654052734', '244.268768310547'],\n",
       "       ['2020-04-03', '247.102615356445', '240.758270263672'],\n",
       "       ['2020-04-06', '263.699554443359', '261.761413574219'],\n",
       "       ['2020-04-07', '263.968383789062', '258.729614257813'],\n",
       "       ['2020-04-08', '272.829376220703', '265.351715087891'],\n",
       "       ['2020-04-09', '276.981140136719', '267.266510009766'],\n",
       "       ['2020-04-13', '274.452239990234', '272.512329101562'],\n",
       "       ['2020-04-14', '282.546630859375', '286.275054931641'],\n",
       "       ['2020-04-15', '276.543060302734', '283.662139892578'],\n",
       "       ['2020-04-16', '277.877197265625', '285.916046142578'],\n",
       "       ['2020-04-17', '285.384155273437', '282.036529541016'],\n",
       "       ['2020-04-20', '280.356262207031', '276.182373046875'],\n",
       "       ['2020-04-21', '271.84375', '267.645477294922'],\n",
       "       ['2020-04-22', '277.877197265625', '275.354614257812'],\n",
       "       ['2020-04-23', '277.857238769531', '274.287506103516'],\n",
       "       ['2020-04-24', '281.730224609375', '282.206085205078'],\n",
       "       ['2020-04-27', '285.792327880859', '282.405548095703'],\n",
       "       ['2020-04-28', '284.478149414062', '277.827911376953'],\n",
       "       ['2020-04-29', '291.925354003906', '286.953247070312'],\n",
       "       ['2020-04-30', '289.207336425781', '293.0068359375'],\n",
       "       ['2020-05-01', '281.551025390625', '288.289611816406'],\n",
       "       ['2020-05-04', '282.327606201172', '292.368560791016'],\n",
       "       ['2020-05-05', '284.936126708984', '296.756683349609'],\n",
       "       ['2020-05-06', '283.004608154297', '299.818389892578'],\n",
       "       ['2020-05-07', '286.419586181641', '302.919982910156'],\n",
       "       ['2020-05-08', '291.158721923828', '310.130004882812'],\n",
       "       ['2020-05-11', '291.218475341797', '315.010009765625'],\n",
       "       ['2020-05-12', '285.414031982422', '311.410003662109'],\n",
       "       ['2020-05-13', '280.366241455078', '307.649993896484'],\n",
       "       ['2020-05-14', '283.721466064453', '309.540008544922'],\n",
       "       ['2020-05-15', '285.025726318359', '307.709991455078'],\n",
       "       ['2020-05-18', '293.70751953125', '314.959991455078'],\n",
       "       ['2020-05-19', '290.690795898437', '313.140014648437'],\n",
       "       ['2020-05-20', '295.629058837891', '319.230010986328'],\n",
       "       ['2020-05-21', '293.588043212891', '316.850006103516'],\n",
       "       ['2020-05-22', '294.145599365234', '318.890014648438'],\n",
       "       ['2020-05-26', '297.769622802734', '316.730010986328'],\n",
       "       ['2020-05-27', '302.200134277344', '318.109985351562'],\n",
       "       ['2020-05-28', '301.642608642578', '318.25'],\n",
       "       ['2020-05-29', '302.986694335937', '317.940002441406'],\n",
       "       ['2020-06-01', '304.211273193359', '321.850006103516'],\n",
       "       ['2020-06-02', '306.730194091797', '323.339996337891'],\n",
       "       ['2020-06-03', '310.812225341797', '325.119995117188'],\n",
       "       ['2020-06-04', '309.995819091797', '322.320007324219'],\n",
       "       ['2020-06-05', '317.940887451172', '331.5'],\n",
       "       ['2020-06-08', '321.783966064453', '333.459991455078'],\n",
       "       ['2020-06-09', '319.384521484375', '343.989990234375'],\n",
       "       ['2020-06-10', '317.602355957031', '352.839996337891'],\n",
       "       ['2020-06-11', '299.292938232422', '335.899993896484'],\n",
       "       ['2020-06-12', '302.877166748047', '338.799987792969'],\n",
       "       ['2020-06-15', '305.704711914063', '342.989990234375'],\n",
       "       ['2020-06-16', '311.588806152344', '352.079986572266'],\n",
       "       ['2020-06-17', '310.294525146484', '351.589996337891'],\n",
       "       ['2020-06-18', '310.414001464844', '351.730010986328'],\n",
       "       ['2020-06-19', '308.640014648437', '349.720001220703'],\n",
       "       ['2020-06-22', '310.619995117188', '358.869995117188'],\n",
       "       ['2020-06-23', '312.049987792969', '366.529998779297'],\n",
       "       ['2020-06-24', '304.089996337891', '360.059997558594'],\n",
       "       ['2020-06-25', '307.350006103516', '364.839996337891'],\n",
       "       ['2020-06-26', '300.049987792969', '353.630004882812'],\n",
       "       ['2020-06-29', '304.459991455078', '361.779998779297'],\n",
       "       ['2020-06-30', '308.359985351562', '364.799987792969'],\n",
       "       ['2020-07-01', '310.519989013672', '364.109985351562'],\n",
       "       ['2020-07-02', '312.230010986328', '364.109985351562'],\n",
       "       ['2020-07-06', '317.049987792969', '373.850006103516'],\n",
       "       ['2020-07-07', '313.779998779297', '372.690002441406'],\n",
       "       ['2020-07-08', '316.179992675781', '381.369995117188'],\n",
       "       ['2020-07-09', '314.380004882812', '383.010009765625'],\n",
       "       ['2020-07-10', '317.589996337891', '383.679992675781'],\n",
       "       ['2020-07-13', '314.839996337891', '381.910003662109'],\n",
       "       ['2020-07-14', '318.920013427734', '388.230010986328'],\n",
       "       ['2020-07-15', '321.850006103516', '390.899993896484']],\n",
       "      dtype='<U16')"
      ]
     },
     "execution_count": 8,
     "metadata": {},
     "output_type": "execute_result"
    }
   ],
   "source": [
    "data_2D = np.array([row.strip().split(',') for row in open(data_file, 'r').readlines()])\n",
    "\n",
    "data_2D"
   ]
  },
  {
   "cell_type": "markdown",
   "id": "2b443d0a-a460-4f72-9e4e-3b86b4f796be",
   "metadata": {},
   "source": [
    "**Separete columns from the data**"
   ]
  },
  {
   "cell_type": "code",
   "execution_count": 9,
   "id": "88117742-9103-47d1-a683-fbe0ce48c193",
   "metadata": {
    "tags": []
   },
   "outputs": [],
   "source": [
    "COLS = np.str_(data_2D[0])"
   ]
  },
  {
   "cell_type": "code",
   "execution_count": 10,
   "id": "41d9c13c-47e6-41fa-bb65-5f084fa037e6",
   "metadata": {
    "tags": []
   },
   "outputs": [
    {
     "data": {
      "text/plain": [
       "\"['date' 'spy_adj_close' 'aapl_adj_close']\""
      ]
     },
     "execution_count": 10,
     "metadata": {},
     "output_type": "execute_result"
    }
   ],
   "source": [
    "COLS"
   ]
  },
  {
   "cell_type": "markdown",
   "id": "2fcc8ad7-66e5-4e40-bc8b-cd1a522058d1",
   "metadata": {
    "tags": []
   },
   "source": [
    "**Separate columns by data types**\n",
    "\n",
    "Numpy wants everything to in a data structure to be of the same type."
   ]
  },
  {
   "cell_type": "code",
   "execution_count": 12,
   "id": "eb4d39ce-40b5-4dc0-8f2a-83003cf9d3f6",
   "metadata": {
    "tags": []
   },
   "outputs": [],
   "source": [
    "DATES = data_2D[1:, 0]"
   ]
  },
  {
   "cell_type": "code",
   "execution_count": 13,
   "id": "9850dcce-c198-4539-abc0-839f583e8b01",
   "metadata": {
    "tags": []
   },
   "outputs": [],
   "source": [
    "RETURNS = data_2D[1:, 1:].astype('float')"
   ]
  },
  {
   "cell_type": "markdown",
   "id": "fc283ce3-6ed0-4140-9358-def4a0a524d6",
   "metadata": {},
   "source": [
    "# Task 1\n",
    "\n",
    "(1 PT)\n",
    "\n",
    "Print the first 5 rows of the `RETURNS` table."
   ]
  },
  {
   "cell_type": "code",
   "execution_count": 14,
   "id": "ef5af7f5-dffa-4c2d-9863-682f094894ac",
   "metadata": {
    "tags": []
   },
   "outputs": [
    {
     "name": "stdout",
     "output_type": "stream",
     "text": [
      "[[321.55578613 298.82995605]\n",
      " [319.12091064 295.92471313]\n",
      " [320.33837891 298.28271484]\n",
      " [319.43765259 296.87988281]\n",
      " [321.1401062  301.6555481 ]]\n"
     ]
    }
   ],
   "source": [
    "# CODE HERE\n",
    "\n",
    "print(RETURNS[:5,:])"
   ]
  },
  {
   "cell_type": "markdown",
   "id": "0e1930c1-1a1d-42cc-931d-cf03fe9e54e4",
   "metadata": {},
   "source": [
    "# Task 2\n",
    "\n",
    "(1 PT)\n",
    "\n",
    "Print the first five values from the SPY column in `RETURNS`.\n",
    "\n",
    "Then do the same for the AAPL column.\n",
    "\n",
    "Use one cell for each operation.\n"
   ]
  },
  {
   "cell_type": "code",
   "execution_count": 15,
   "id": "1cdc6ca4-27ee-4f33-88ed-34832e0c668b",
   "metadata": {
    "tags": []
   },
   "outputs": [
    {
     "name": "stdout",
     "output_type": "stream",
     "text": [
      "[321.55578613 319.12091064 320.33837891 319.43765259 321.1401062 ]\n"
     ]
    }
   ],
   "source": [
    "# CODE HERE\n",
    "#first five for SPY\n",
    "print(RETURNS[:5,0])"
   ]
  },
  {
   "cell_type": "code",
   "execution_count": 16,
   "id": "cc7f265b-13f3-429c-a70b-d52f25f09991",
   "metadata": {
    "tags": []
   },
   "outputs": [
    {
     "name": "stdout",
     "output_type": "stream",
     "text": [
      "[298.82995605 295.92471313 298.28271484 296.87988281 301.6555481 ]\n"
     ]
    }
   ],
   "source": [
    "#first five for AAPL\n",
    "print(RETURNS[:5, 1])"
   ]
  },
  {
   "cell_type": "markdown",
   "id": "e21e9fbe-4832-433f-9f23-d65e2b079470",
   "metadata": {},
   "source": [
    "# Task 3\n",
    "\n",
    "(1 PT)\n",
    "\n",
    "Compute the excess returns by subtracting the constant `R_f` from `RETURNS`.\n",
    "\n",
    "Save the result as numpy 2D array (i.e. a table) named `EXCESS`.\n",
    "\n",
    "Print the LAST five rows from the new table."
   ]
  },
  {
   "cell_type": "code",
   "execution_count": 17,
   "id": "ff0d7ed3-db6c-4ec5-ac67-db6c0bf24f60",
   "metadata": {
    "tags": []
   },
   "outputs": [],
   "source": [
    "EXCESS = RETURNS - R_f"
   ]
  },
  {
   "cell_type": "code",
   "execution_count": 18,
   "id": "d300162f-72d3-46da-92be-0548eff738c6",
   "metadata": {
    "tags": []
   },
   "outputs": [
    {
     "name": "stdout",
     "output_type": "stream",
     "text": [
      "[[314.37993544 383.00994032]\n",
      " [317.58992689 383.67992323]\n",
      " [314.83992689 381.90993422]\n",
      " [318.91994398 388.22994154]\n",
      " [321.84993666 390.89992445]]\n"
     ]
    }
   ],
   "source": [
    "print(EXCESS[-5:, ])"
   ]
  },
  {
   "cell_type": "markdown",
   "id": "05a46988-1216-4f39-8ec3-2e44baad0d14",
   "metadata": {},
   "source": [
    "# Task 4\n",
    "\n",
    "(1 PT)\n",
    "\n",
    "Make a simple [scatterplot using Matplotlib](https://matplotlib.org/stable/api/_as_gen/matplotlib.pyplot.scatter.html) with SPY excess returns on the x-axis, AAPL excess returns on the y-axis.\n",
    "\n",
    "Hint: Use the following code:\n",
    "\n",
    "```python\n",
    "from matplotlib.pyplot import scatter\n",
    "\n",
    "scatter(<x>, <y>)\n",
    "```\n",
    "Replace `<x>` and `<y>` with the appropriate vectors.\n",
    "\n",
    "You may want to save the vectors for the SPY and AAPL columns as `x` and `y` respectively. This will make it visually easier to perform Task 6."
   ]
  },
  {
   "cell_type": "code",
   "execution_count": 20,
   "id": "b0fa1397-89af-4ca8-919b-badc4f2d63c8",
   "metadata": {
    "tags": []
   },
   "outputs": [
    {
     "data": {
      "image/png": "[encoded data removed]",
      "text/plain": [
       "<Figure size 640x480 with 1 Axes>"
      ]
     },
     "metadata": {},
     "output_type": "display_data"
    }
   ],
   "source": [
    "# CODE HERE\n",
    "x = EXCESS[:, 0]    #SPY\n",
    "y = EXCESS[:, 1]    #AAPL\n",
    "\n",
    "from matplotlib.pyplot import scatter\n",
    "\n",
    "scatter(x,y);"
   ]
  },
  {
   "cell_type": "markdown",
   "id": "22654d65-e09a-44bb-a0d6-da2f74ffb006",
   "metadata": {},
   "source": [
    "# Taks 5\n",
    "\n",
    "(3 PTS)\n",
    "\n",
    "Use the **normal equation**, listed below, to compute the Regression Coefficient Estimate of the data plotted above, $\\hat\\beta_i$.\n",
    "\n",
    "Note that $x^T$ denotes the transpose of $x$.\n",
    "\n",
    "$\\begin{aligned} \\hat\\beta_i=(x^Tx)^{−1}x^Ty \\end{aligned}$\n",
    "\n",
    "Use the Numpy functions for matrix to do this &mdash; multiplication, transpose, and inverse.\n",
    "\n",
    "Note, however, that since $x$ in this case a single column matrix, i.e. a vector, the result of $x'x$ will be a scalar, which is not invertable. So you can just invert the result by division, i.e.\n",
    "\n",
    "$\\hat\\beta_i = \\large\\frac{1}{x^Tx} \\small(x^Ty)$\n",
    "\n",
    "Be sure to review what these operations do, and how they work, if you're a bit rusty."
   ]
  },
  {
   "cell_type": "code",
   "execution_count": 26,
   "id": "483d974f-8bea-4e3e-9dcb-1d2eddc7eb27",
   "metadata": {
    "tags": []
   },
   "outputs": [],
   "source": [
    "beta_est = (1 / np.matmul(x.T, x)) * (np.matmul(x.T, y))"
   ]
  },
  {
   "cell_type": "code",
   "execution_count": 27,
   "id": "794218f2-ef02-4312-bfe9-86fdd1a447c6",
   "metadata": {
    "tags": []
   },
   "outputs": [
    {
     "data": {
      "text/plain": [
       "1.029980294240815"
      ]
     },
     "execution_count": 27,
     "metadata": {},
     "output_type": "execute_result"
    }
   ],
   "source": [
    "beta_est"
   ]
  },
  {
   "cell_type": "markdown",
   "id": "c4db2a89-c491-4cd9-b62d-300e1e50abf4",
   "metadata": {},
   "source": [
    "# Task 6\n",
    "\n",
    "(3 PTS)\n",
    "\n",
    "**Measuring Beta Sensitivity to Dropping Observations (Jackknifing)**\n",
    "\n",
    "Let's understand how sensitive the beta is to each data point.   \n",
    "We want to drop each data point (one at a time), compute \\\\(\\hat\\beta_i\\\\) using our formula from above, and save each measurement.\n",
    "\n",
    "Write a function called `beta_sensitivity()` with these specs:\n",
    "\n",
    "- Take numpy arrays x and y as inputs.\n",
    "- For each observation i, compute the beta without the current observation. You can use a `lambda` function for this.\n",
    "- Return a list of tuples each containing the observation row dropped and the beta estimate, i.e. something like `(i, beta_est)`, depending how you've named your variables.\n",
    "\n",
    "Hint: `np.delete(x, i)` will delete observation i from array x."
   ]
  },
  {
   "cell_type": "code",
   "execution_count": 30,
   "id": "ac1a7f20-83b5-41ac-8d53-a43862167dce",
   "metadata": {
    "tags": []
   },
   "outputs": [],
   "source": [
    "# CODE HERE\n",
    "def beta_sensitivity(x, y):\n",
    "  \"\"\"\n",
    "  beta_sensitivity takes numpy arrays x and y as inputs.\n",
    "  For each observation i, compute the beta without the current observation.\n",
    "  \"\"\"\n",
    "\n",
    "  beta_list = []            #create empty beta list\n",
    "\n",
    "  for i in range (len(x)):  #loop through each observation\n",
    "    x_new = np.delete(x, i)\n",
    "    y_new = np.delete(y, i)\n",
    "\n",
    "    #lambda function to calculate beta est\n",
    "    cur_beta_est = lambda x,y: (1 / (np.matmul(x.T,x))) * np.matmul(x.T,y)\n",
    "\n",
    "    #call to beta est\n",
    "    beta_est = cur_beta_est(x_new, y_new)\n",
    "\n",
    "    #append to beta list\n",
    "    beta_list.append((i, beta_est))\n",
    "\n",
    "  return beta_list"
   ]
  },
  {
   "cell_type": "code",
   "execution_count": 31,
   "id": "e9932bd0-e001-4f5c-af5e-7c822d4a7a16",
   "metadata": {
    "tags": []
   },
   "outputs": [
    {
     "data": {
      "text/plain": [
       "[(0, 1.030847730172396),\n",
       " (1, 1.0308516176393125),\n",
       " (2, 1.0308255236222597),\n",
       " (3, 1.0308357542837523),\n",
       " (4, 1.030759501843587)]"
      ]
     },
     "execution_count": 31,
     "metadata": {},
     "output_type": "execute_result"
    }
   ],
   "source": [
    "beta_sensitivity(x, y)[:5]"
   ]
  }
 ],
 "metadata": {
  "kernelspec": {
   "display_name": "Python 3 (ipykernel)",
   "language": "python",
   "name": "python3"
  },
  "language_info": {
   "codemirror_mode": {
    "name": "ipython",
    "version": 3
   },
   "file_extension": ".py",
   "mimetype": "text/x-python",
   "name": "python",
   "nbconvert_exporter": "python",
   "pygments_lexer": "ipython3",
   "version": "3.11.4"
  }
 },
 "nbformat": 4,
 "nbformat_minor": 5
}
