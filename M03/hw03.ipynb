{
 "cells": [
  {
   "cell_type": "markdown",
   "id": "2575d7dc-a476-483b-940b-6fcecaa7c0fd",
   "metadata": {
    "tags": []
   },
   "source": [
    "# Metadata\n",
    "\n",
    "```yaml\n",
    "Course:   DS 5100\n",
    "Term:     Fall 2023\n",
    "Module:   M03 Homework\n",
    "Author:   R.C. Alvarado\n",
    "Date:     19 August 2023 (revised)\n",
    "```"
   ]
  },
  {
   "cell_type": "markdown",
   "id": "c515af3a-3408-47aa-9ea0-3b5063008ba5",
   "metadata": {},
   "source": [
    "# Student Info\n",
    "\n",
    "* Name: Courtney Hodge\n",
    "* Net ID: yss2zv\n",
    "* URL of this file in GitHub: "
   ]
  },
  {
   "cell_type": "markdown",
   "id": "be60e8a5-0dc1-4e77-8b58-078eb3bc38d7",
   "metadata": {},
   "source": [
    "# Instructions\n",
    "\n",
    "In your **private course repo on Rivanna**, write a Jupyter notebook running Python that performs the numbered tasks below. \n",
    "\n",
    "For each task, create a code cell to perform the task.\n",
    "\n",
    "Save your notebook in the `M03` directory as `hw03.ipynb`. \n",
    "\n",
    "Add and commit these files to your repo. \n",
    "\n",
    "Then push your commits to your repo on GitHib.\n",
    "\n",
    "Be sure to fill out the **Student Info** block above.\n",
    "\n",
    "To submit your homework, save the notebook as a PDF and upload it to GradeScope, following the instructions.\n",
    "\n",
    "**12 points**"
   ]
  },
  {
   "cell_type": "markdown",
   "id": "69c96e07-c00d-47b2-a638-1c4c2594c06a",
   "metadata": {},
   "source": [
    "# Task 1\n",
    "\n",
    "(6 points)\n",
    "\n",
    "Using the **for** loop and **if** statement control structures, \n",
    "write a script that generates the integers from $1$ to $100$ and does the following things:\n",
    "\n",
    "* If $3$ is a factor of the number but $5$ is not, print `Wahoo`.\n",
    "* If $5$ is a factor of the number but $3$ is not, print `wah!`.\n",
    "* If both $3$ and $5$ are factors of the number, print `Wahoowah!`.\n",
    "* If the number meets none of the above conditions, print nothing, not even a line break.\n",
    "* Make sure that the line printed for each iteration in which a condition is met ends with a line break.\n",
    "* When the loop is finished, print the number of times either conidtion was met, i.e. the number of lines that were printed.\n",
    "\n",
    "Hint: You may not need to use **elif** and **else** to accomplish these tasks."
   ]
  },
  {
   "cell_type": "code",
   "execution_count": 2,
   "id": "9b23c57d-02ea-4c3b-9bf5-868b54b38b00",
   "metadata": {
    "tags": []
   },
   "outputs": [
    {
     "name": "stdout",
     "output_type": "stream",
     "text": [
      "\n",
      "\n",
      "Wahoo\n",
      "\n",
      "wah!\n",
      "Wahoo\n",
      "\n",
      "\n",
      "Wahoo\n",
      "wah!\n",
      "\n",
      "Wahoo\n",
      "\n",
      "\n",
      "Wahoowah!\n",
      "\n",
      "\n",
      "Wahoo\n",
      "\n",
      "wah!\n",
      "Wahoo\n",
      "\n",
      "\n",
      "Wahoo\n",
      "wah!\n",
      "\n",
      "Wahoo\n",
      "\n",
      "\n",
      "Wahoowah!\n",
      "\n",
      "\n",
      "Wahoo\n",
      "\n",
      "wah!\n",
      "Wahoo\n",
      "\n",
      "\n",
      "Wahoo\n",
      "wah!\n",
      "\n",
      "Wahoo\n",
      "\n",
      "\n",
      "Wahoowah!\n",
      "\n",
      "\n",
      "Wahoo\n",
      "\n",
      "wah!\n",
      "Wahoo\n",
      "\n",
      "\n",
      "Wahoo\n",
      "wah!\n",
      "\n",
      "Wahoo\n",
      "\n",
      "\n",
      "Wahoowah!\n",
      "\n",
      "\n",
      "Wahoo\n",
      "\n",
      "wah!\n",
      "Wahoo\n",
      "\n",
      "\n",
      "Wahoo\n",
      "wah!\n",
      "\n",
      "Wahoo\n",
      "\n",
      "\n",
      "Wahoowah!\n",
      "\n",
      "\n",
      "Wahoo\n",
      "\n",
      "wah!\n",
      "Wahoo\n",
      "\n",
      "\n",
      "Wahoo\n",
      "wah!\n",
      "\n",
      "Wahoo\n",
      "\n",
      "\n",
      "Wahoowah!\n",
      "\n",
      "\n",
      "Wahoo\n",
      "\n",
      "wah!\n",
      "Wahoo\n",
      "\n",
      "\n",
      "Wahoo\n",
      "wah!\n"
     ]
    }
   ],
   "source": [
    "for i in range(1, 101):\n",
    "  if (i % 3 == 0) and (i % 5 != 0):\n",
    "    print(\"Wahoo\")\n",
    "  elif (i % 5 == 0) and (i % 3 != 0):\n",
    "    print(\"wah!\")\n",
    "  elif (i % 3 == 0) and (i % 5 == 0):\n",
    "    print(\"Wahoowah!\")\n",
    "  else:\n",
    "    print()"
   ]
  },
  {
   "cell_type": "markdown",
   "id": "1e70a880-a825-45af-b96e-8afbcddbdcb8",
   "metadata": {},
   "source": [
    "# Task 2\n",
    "\n",
    "(3 points)\n",
    "\n",
    "Rewrite the `for` loop as a `while` loop. \n",
    "\n",
    "This time, only print lines where both conditions are met. \n",
    "\n",
    "Include a final line which prints the number of times both conditions are met."
   ]
  },
  {
   "cell_type": "code",
   "execution_count": 3,
   "id": "76cc7f1e-8ba5-42e1-8808-1c3276f49437",
   "metadata": {
    "tags": []
   },
   "outputs": [
    {
     "name": "stdout",
     "output_type": "stream",
     "text": [
      "15\n",
      "30\n",
      "45\n",
      "60\n",
      "75\n",
      "90\n",
      "Both conditions were met  6 times\n"
     ]
    }
   ],
   "source": [
    "i = 0\n",
    "both_cond_met_count = 0\n",
    "\n",
    "while 1:\n",
    "  i += 1\n",
    "  if (i % 3 == 0) and (i % 5 == 0):\n",
    "    both_cond_met_count += 1\n",
    "    print(i)\n",
    "  if i == 100:\n",
    "    break\n",
    "print(\"Both conditions were met \", both_cond_met_count, \"times\")"
   ]
  },
  {
   "cell_type": "markdown",
   "id": "51177f3f-5701-4b28-abce-ea151e5f85f7",
   "metadata": {},
   "source": [
    "# Task 3\n",
    "\n",
    "(3 points)\n",
    "\n",
    "Write a list comprehension that iterates through the integers from $1$ to $100$ and returns a list containing the sum of the boolean values of the three conditions described in Task 1."
   ]
  },
  {
   "cell_type": "code",
   "execution_count": 4,
   "id": "687c8177-38df-4d1c-a191-41f5e985113e",
   "metadata": {
    "tags": []
   },
   "outputs": [
    {
     "name": "stdout",
     "output_type": "stream",
     "text": [
      "41\n"
     ]
    }
   ],
   "source": [
    "my_list = [1 if ((i % 3 == 0) and (i % 5 != 0)) else \n",
    "           1 if ((i % 3 != 0) and (i % 5 == 0)) else\n",
    "           1 if ((1 % 3 == 0) and (i % 5 != 0)) else 0\n",
    "           for i in range(1, 101)]\n",
    "count = sum(my_list)\n",
    "print(count)"
   ]
  }
 ],
 "metadata": {
  "kernelspec": {
   "display_name": "Python 3 (ipykernel)",
   "language": "python",
   "name": "python3"
  },
  "language_info": {
   "codemirror_mode": {
    "name": "ipython",
    "version": 3
   },
   "file_extension": ".py",
   "mimetype": "text/x-python",
   "name": "python",
   "nbconvert_exporter": "python",
   "pygments_lexer": "ipython3",
   "version": "3.11.4"
  }
 },
 "nbformat": 4,
 "nbformat_minor": 5
}
