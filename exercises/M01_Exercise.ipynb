{
 "cells": [
  {
   "cell_type": "markdown",
   "id": "d4903186-ee47-4f39-b4a3-7362a5d2e7f1",
   "metadata": {},
   "source": [
    "# My Notebook"
   ]
  },
  {
   "cell_type": "code",
   "execution_count": 1,
   "id": "52a50de5-7baf-41a8-9164-6499257283a5",
   "metadata": {
    "tags": []
   },
   "outputs": [],
   "source": [
    "my_list = [1,2,3]"
   ]
  },
  {
   "cell_type": "code",
   "execution_count": 2,
   "id": "cabe1058-bf25-4073-b606-d2e7b986fff9",
   "metadata": {
    "tags": []
   },
   "outputs": [
    {
     "data": {
      "text/plain": [
       "[1, 2, 3]"
      ]
     },
     "execution_count": 2,
     "metadata": {},
     "output_type": "execute_result"
    }
   ],
   "source": [
    "my_list"
   ]
  },
  {
   "cell_type": "code",
   "execution_count": 3,
   "id": "ea63ed68-0c30-49d6-b0bd-400bda2df1b3",
   "metadata": {
    "tags": []
   },
   "outputs": [
    {
     "data": {
      "text/plain": [
       "list"
      ]
     },
     "execution_count": 3,
     "metadata": {},
     "output_type": "execute_result"
    }
   ],
   "source": [
    "type(my_list)"
   ]
  },
  {
   "cell_type": "markdown",
   "id": "d1804f44-bbdd-4040-bbd6-5f9b4b61e44e",
   "metadata": {},
   "source": [
    "# Next Task"
   ]
  },
  {
   "cell_type": "code",
   "execution_count": 1,
   "id": "4230f2dd-4b00-4093-bc66-496f560f2060",
   "metadata": {
    "tags": []
   },
   "outputs": [],
   "source": [
    "string1 = \"Virginia\""
   ]
  },
  {
   "cell_type": "code",
   "execution_count": 2,
   "id": "55f33247-abe1-4e48-8bcf-07f90606ba49",
   "metadata": {
    "tags": []
   },
   "outputs": [
    {
     "data": {
      "text/plain": [
       "'Virginia'"
      ]
     },
     "execution_count": 2,
     "metadata": {},
     "output_type": "execute_result"
    }
   ],
   "source": [
    "string1"
   ]
  },
  {
   "cell_type": "code",
   "execution_count": 5,
   "id": "15f9bf51-ceb4-4075-b467-0590f086441c",
   "metadata": {
    "tags": []
   },
   "outputs": [
    {
     "data": {
      "text/plain": [
       "'Vir'"
      ]
     },
     "execution_count": 5,
     "metadata": {},
     "output_type": "execute_result"
    }
   ],
   "source": [
    "string1[:3]"
   ]
  },
  {
   "cell_type": "code",
   "execution_count": 6,
   "id": "041f8650-320a-428d-aadb-18fd613b04eb",
   "metadata": {
    "tags": []
   },
   "outputs": [
    {
     "data": {
      "text/plain": [
       "'nia'"
      ]
     },
     "execution_count": 6,
     "metadata": {},
     "output_type": "execute_result"
    }
   ],
   "source": [
    "string1[5:]"
   ]
  },
  {
   "cell_type": "markdown",
   "id": "5aa8e8e0-ec6e-49ea-8e60-dba1975dc35d",
   "metadata": {},
   "source": [
    "Exercise 2"
   ]
  },
  {
   "cell_type": "code",
   "execution_count": 3,
   "id": "e63704d1-c767-4ecf-8d3c-34c0fc45ecb3",
   "metadata": {
    "tags": []
   },
   "outputs": [
    {
     "name": "stdout",
     "output_type": "stream",
     "text": [
      "second\n"
     ]
    }
   ],
   "source": [
    "my_list2 = []\n",
    "my_list2.append('first')\n",
    "my_list2.append('second')\n",
    "my_list2.append('third')\n",
    "print(my_list2[1])"
   ]
  },
  {
   "cell_type": "markdown",
   "id": "f647fc78-675a-433d-bb1d-b21712bed05a",
   "metadata": {},
   "source": [
    "Exercise 3\n",
    "- remember, tuples are immutable. They cannot be altered using append"
   ]
  },
  {
   "cell_type": "code",
   "execution_count": 18,
   "id": "c92524e8-5043-4fe0-9ee0-f5c3420f61cf",
   "metadata": {
    "tags": []
   },
   "outputs": [],
   "source": [
    "my_tuple = 'a','b','c'\n",
    "#can also be my_tuple = 1,2,3\n",
    "#or my_tuple = (1,2,3)\n",
    "#or my_tuple = tupel([1,2,3])\n"
   ]
  },
  {
   "cell_type": "code",
   "execution_count": 6,
   "id": "1c788e97-5428-4c1f-8831-8f6b1955d682",
   "metadata": {
    "tags": []
   },
   "outputs": [
    {
     "ename": "TypeError",
     "evalue": "'tuple' object does not support item assignment",
     "output_type": "error",
     "traceback": [
      "\u001b[0;31m---------------------------------------------------------------------------\u001b[0m",
      "\u001b[0;31mTypeError\u001b[0m                                 Traceback (most recent call last)",
      "Cell \u001b[0;32mIn[6], line 1\u001b[0m\n\u001b[0;32m----> 1\u001b[0m \u001b[43mmy_tuple\u001b[49m\u001b[43m[\u001b[49m\u001b[38;5;241;43m4\u001b[39;49m\u001b[43m]\u001b[49m \u001b[38;5;241m=\u001b[39m \u001b[38;5;124m'\u001b[39m\u001b[38;5;124md\u001b[39m\u001b[38;5;124m'\u001b[39m\n",
      "\u001b[0;31mTypeError\u001b[0m: 'tuple' object does not support item assignment"
     ]
    }
   ],
   "source": [
    "my_tuple[4] = 'd'"
   ]
  },
  {
   "cell_type": "markdown",
   "id": "20669dfa-77b0-4124-8cec-4f513a17c1f7",
   "metadata": {},
   "source": [
    "Exercise 4\n",
    "- Assign a string value to a scalar variable\n",
    "- Assign three string values to a set\n",
    "- Check if the scalar is in the set"
   ]
  },
  {
   "cell_type": "code",
   "execution_count": 17,
   "id": "2a66c27d-828e-45d6-b2bb-ecbe0b6fab7e",
   "metadata": {
    "tags": []
   },
   "outputs": [
    {
     "data": {
      "text/plain": [
       "True"
      ]
     },
     "execution_count": 17,
     "metadata": {},
     "output_type": "execute_result"
    }
   ],
   "source": [
    "x = 5\n",
    "\n",
    "#y is a set. Just create it like the below\n",
    "y = {'Warn', 5, 'Critical'}\n",
    "\n",
    "#in helps to see if something is in something else\n",
    "x in y"
   ]
  }
 ],
 "metadata": {
  "kernelspec": {
   "display_name": "Python 3 (ipykernel)",
   "language": "python",
   "name": "python3"
  },
  "language_info": {
   "codemirror_mode": {
    "name": "ipython",
    "version": 3
   },
   "file_extension": ".py",
   "mimetype": "text/x-python",
   "name": "python",
   "nbconvert_exporter": "python",
   "pygments_lexer": "ipython3",
   "version": "3.11.4"
  }
 },
 "nbformat": 4,
 "nbformat_minor": 5
}
