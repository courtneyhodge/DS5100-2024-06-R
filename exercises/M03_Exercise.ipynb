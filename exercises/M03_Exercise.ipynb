{
 "cells": [
  {
   "cell_type": "markdown",
   "id": "471995db-005d-4936-b2f3-d03342339a6b",
   "metadata": {},
   "source": [
    "# MO3 Exercises"
   ]
  },
  {
   "cell_type": "code",
   "execution_count": 1,
   "id": "f5a8b72a-ae35-4d21-afa5-e535d01af4dc",
   "metadata": {
    "tags": []
   },
   "outputs": [
    {
     "name": "stdout",
     "output_type": "stream",
     "text": [
      "bucket4\n"
     ]
    }
   ],
   "source": [
    "val = 5\n",
    "if -10 < val < -5:\n",
    "    print('bucket1')\n",
    "elif -5 <= val < -2:\n",
    "    print('bucket2')\n",
    "elif val == -2:\n",
    "    print('bucket3')\n",
    "else:\n",
    "    print('bucket4')"
   ]
  },
  {
   "cell_type": "code",
   "execution_count": 2,
   "id": "27898ef4-33da-47cc-9b0f-5bb3d1747e1e",
   "metadata": {
    "tags": []
   },
   "outputs": [
    {
     "name": "stdout",
     "output_type": "stream",
     "text": [
      "-2\n",
      "max_val\n",
      "0\n",
      "5\n",
      "6\n"
     ]
    }
   ],
   "source": [
    "xx = [-2, 8, 0, 5, 6]\n",
    "max_val = max(xx)\n",
    "for i in xx:\n",
    "    if i < max_val:\n",
    "        print(i)\n",
    "    else:\n",
    "        print('max_val')\n",
    "    "
   ]
  },
  {
   "cell_type": "code",
   "execution_count": 3,
   "id": "c720b593-17d0-4062-9d21-80263bbf223f",
   "metadata": {
    "tags": []
   },
   "outputs": [
    {
     "name": "stdout",
     "output_type": "stream",
     "text": [
      "0\n",
      "10\n",
      "20\n",
      "30\n",
      "40\n",
      "50\n",
      "60\n",
      "70\n",
      "80\n",
      "90\n"
     ]
    }
   ],
   "source": [
    "it = 0\n",
    "max_iter = 100\n",
    "\n",
    "while it < max_iter:\n",
    "    if it == 0 or (it % 10) == 0:\n",
    "        print(it)\n",
    "    it = it + 1"
   ]
  },
  {
   "cell_type": "code",
   "execution_count": 5,
   "id": "404c2131-863e-4c3c-96b0-e04a0b796f83",
   "metadata": {
    "tags": []
   },
   "outputs": [
    {
     "name": "stdout",
     "output_type": "stream",
     "text": [
      "january\n",
      "february\n",
      "march\n",
      "april\n",
      "may\n",
      "june\n",
      "july\n"
     ]
    }
   ],
   "source": [
    "my_list = ['January', 'February', 'March', 'April', 'May', 'June', 'July']\n",
    "\n",
    "for i in my_list:\n",
    "    print(i.lower())\n",
    "    "
   ]
  },
  {
   "cell_type": "code",
   "execution_count": 6,
   "id": "48f136db-826e-43f0-ac32-ae54f27b2766",
   "metadata": {
    "tags": []
   },
   "outputs": [
    {
     "name": "stdout",
     "output_type": "stream",
     "text": [
      "January\n",
      "February\n",
      "March\n",
      "April\n",
      "May\n",
      "June\n",
      "July\n"
     ]
    }
   ],
   "source": [
    "for i in iter(my_list):\n",
    "    print(i)"
   ]
  },
  {
   "cell_type": "code",
   "execution_count": 7,
   "id": "749af3fb-e06b-43b8-a537-33118b028366",
   "metadata": {
    "tags": []
   },
   "outputs": [
    {
     "name": "stdout",
     "output_type": "stream",
     "text": [
      "Newport News 23602\n",
      "Charlottesville 22911\n"
     ]
    }
   ],
   "source": [
    "cities = {\n",
    "    'Newport News':23602,\n",
    "    'Charlottesville':22911\n",
    "}\n",
    "\n",
    "for x, y in cities.items():\n",
    "    print(x, cities[x])\n",
    "    "
   ]
  },
  {
   "cell_type": "code",
   "execution_count": 8,
   "id": "7c681f4e-0d16-48fc-af8f-f95463a3dbb1",
   "metadata": {
    "tags": []
   },
   "outputs": [
    {
     "name": "stdout",
     "output_type": "stream",
     "text": [
      "Newport News 23602\n",
      "Charlottesville 22911\n"
     ]
    }
   ],
   "source": [
    "for x in cities.keys():\n",
    "    print(x, cities[x])"
   ]
  },
  {
   "cell_type": "code",
   "execution_count": 10,
   "id": "7124219c-ecbe-4fb2-bf4b-fff4e86f978b",
   "metadata": {
    "tags": []
   },
   "outputs": [
    {
     "name": "stdout",
     "output_type": "stream",
     "text": [
      "[1, 8, 27, 64, 125, 216, 343, 512]\n"
     ]
    }
   ],
   "source": [
    "numlist = [1 , 2, 3, 4, 5, 6, 7, 8]\n",
    "cubelist = []\n",
    "\n",
    "cubes = [x**3 for x in numlist]\n",
    "print(cubes)"
   ]
  },
  {
   "cell_type": "code",
   "execution_count": 11,
   "id": "f3fcc67a-61b1-4630-b64b-bc6901dc9a69",
   "metadata": {
    "tags": []
   },
   "outputs": [
    {
     "data": {
      "text/plain": [
       "['12', '4', '5', '67']"
      ]
     },
     "execution_count": 11,
     "metadata": {},
     "output_type": "execute_result"
    }
   ],
   "source": [
    "strlist = ['a', '12', '4', 'b', '5', 'g', '67']\n",
    "diglist = [x for x in strlist if x.isdigit() == True]\n",
    "diglist"
   ]
  },
  {
   "cell_type": "code",
   "execution_count": 12,
   "id": "9b3d81a9-5fb8-47b9-95f3-f9f87592f2a9",
   "metadata": {
    "tags": []
   },
   "outputs": [
    {
     "data": {
      "text/plain": [
       "{'max_depth': [5, 10], 'max_iter': [10, 20]}"
      ]
     },
     "execution_count": 12,
     "metadata": {},
     "output_type": "execute_result"
    }
   ],
   "source": [
    "grid = {\n",
    "    'max_depth':[5, 10],\n",
    "    'ntrees':[100, 200, 300],\n",
    "    'regulation':[11,12],\n",
    "    'max_iter':[10,20]\n",
    "}\n",
    "\n",
    "gridmax = {key: grid[key] for key in grid.keys() if 'max' in key}\n",
    "gridmax"
   ]
  },
  {
   "cell_type": "code",
   "execution_count": null,
   "id": "2ec549cd-e772-46f5-8e5e-bf6bf621905b",
   "metadata": {},
   "outputs": [],
   "source": []
  }
 ],
 "metadata": {
  "kernelspec": {
   "display_name": "Python 3 (ipykernel)",
   "language": "python",
   "name": "python3"
  },
  "language_info": {
   "codemirror_mode": {
    "name": "ipython",
    "version": 3
   },
   "file_extension": ".py",
   "mimetype": "text/x-python",
   "name": "python",
   "nbconvert_exporter": "python",
   "pygments_lexer": "ipython3",
   "version": "3.11.4"
  }
 },
 "nbformat": 4,
 "nbformat_minor": 5
}
