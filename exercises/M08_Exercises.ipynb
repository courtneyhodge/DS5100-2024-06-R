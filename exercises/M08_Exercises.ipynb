{
 "cells": [
  {
   "cell_type": "markdown",
   "id": "172d3b95-ece7-4122-b33b-37ab9af67193",
   "metadata": {},
   "source": [
    "# M08_Exercises"
   ]
  },
  {
   "cell_type": "code",
   "execution_count": null,
   "id": "1683ac3d-84c7-4d95-9ed4-403540cad0e6",
   "metadata": {},
   "outputs": [],
   "source": []
  }
 ],
 "metadata": {
  "kernelspec": {
   "display_name": "Python 3 (ipykernel)",
   "language": "python",
   "name": "python3"
  },
  "language_info": {
   "codemirror_mode": {
    "name": "ipython",
    "version": 3
   },
   "file_extension": ".py",
   "mimetype": "text/x-python",
   "name": "python",
   "nbconvert_exporter": "python",
   "pygments_lexer": "ipython3",
   "version": "3.11.4"
  }
 },
 "nbformat": 4,
 "nbformat_minor": 5
}
