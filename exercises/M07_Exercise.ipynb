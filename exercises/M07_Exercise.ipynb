{
 "cells": [
  {
   "cell_type": "markdown",
   "id": "34325fc9-84a8-4b96-9b37-c20114c5c64f",
   "metadata": {},
   "source": [
    "# Module 7 Exercises"
   ]
  },
  {
   "cell_type": "markdown",
   "id": "5f4ec5e7-6a76-420f-9735-ccaf483fa88e",
   "metadata": {},
   "source": [
    "## 7.1"
   ]
  },
  {
   "cell_type": "code",
   "execution_count": 8,
   "id": "49af52d7-925a-44e9-8074-aaa647857ae4",
   "metadata": {
    "tags": []
   },
   "outputs": [],
   "source": [
    "#7.1\n",
    "class MyClass:\n",
    "  '''\n",
    "  Example class for Exercise 7.1\n",
    "  '''\n",
    "  att1 = \"foo\"\n",
    "\n",
    "  def __init__(self, att2):\n",
    "    self.att2 = att2\n",
    "\n",
    "  def add(self, att1, att2):\n",
    "    print(self.att1 + ' ' + self.att2)\n"
   ]
  },
  {
   "cell_type": "markdown",
   "id": "22a859f3-3272-4685-8704-37ba5a8eea8d",
   "metadata": {},
   "source": [
    "## 7.2"
   ]
  },
  {
   "cell_type": "code",
   "execution_count": 9,
   "id": "0f37834b-77d3-4652-ae44-6f889247c227",
   "metadata": {
    "tags": []
   },
   "outputs": [
    {
     "data": {
      "text/plain": [
       "'foo'"
      ]
     },
     "execution_count": 9,
     "metadata": {},
     "output_type": "execute_result"
    }
   ],
   "source": [
    "#7.2\n",
    "example = MyClass(\"this is my short sentence.\")\n",
    "\n",
    "example.att1"
   ]
  },
  {
   "cell_type": "code",
   "execution_count": 10,
   "id": "e7cb91e9-cc7a-4b49-b826-e6fcb4b1f362",
   "metadata": {
    "tags": []
   },
   "outputs": [
    {
     "data": {
      "text/plain": [
       "'this is my short sentence.'"
      ]
     },
     "execution_count": 10,
     "metadata": {},
     "output_type": "execute_result"
    }
   ],
   "source": [
    "\n",
    "example.att2"
   ]
  },
  {
   "cell_type": "code",
   "execution_count": 11,
   "id": "1f4a5872-5f2b-4c1b-8a8b-58ea0014988f",
   "metadata": {
    "tags": []
   },
   "outputs": [
    {
     "name": "stdout",
     "output_type": "stream",
     "text": [
      "foo this is my short sentence.\n"
     ]
    }
   ],
   "source": [
    "example.add(example.att1, example.att2)"
   ]
  },
  {
   "cell_type": "markdown",
   "id": "753a89c6-b035-46ce-82d2-5c15dce75bd5",
   "metadata": {},
   "source": [
    "## 7.3"
   ]
  },
  {
   "cell_type": "code",
   "execution_count": 12,
   "id": "831401b9-82ea-494d-bded-fec222266b7d",
   "metadata": {
    "tags": []
   },
   "outputs": [],
   "source": [
    "#7.3\n",
    "import pandas as pd\n",
    "import numpy as np\n",
    "\n",
    "class Student:\n",
    "  def __init__(self, name, ID):\n",
    "      self.name = name\n",
    "      self.ID = ID\n",
    "      self.grade = pd.Series(dtype = float)\n",
    "\n",
    "  def add_assignment(self, assignment, grade):\n",
    "      self.grade.loc[assignment] = grade\n",
    "  \n",
    "\n",
    "  def plot(self):\n",
    "      self.grade.plot.bar(title = f\"Plot for {self.name} with Student ID {self.ID}\")\n",
    "  \n",
    "\n",
    "\n",
    "  "
   ]
  },
  {
   "cell_type": "markdown",
   "id": "2bd35044-fd7e-4f71-a420-1523902f9e66",
   "metadata": {},
   "source": [
    "## 7.3a"
   ]
  },
  {
   "cell_type": "code",
   "execution_count": 13,
   "id": "957333f8-a45d-4244-8aac-63f1943a299e",
   "metadata": {
    "tags": []
   },
   "outputs": [
    {
     "data": {
      "image/png": "[encoded data removed]",
      "text/plain": [
       "<Figure size 640x480 with 1 Axes>"
      ]
     },
     "metadata": {},
     "output_type": "display_data"
    }
   ],
   "source": [
    "#7.3a\n",
    "student = Student(\"John\", 890)\n",
    "student.add_assignment(\"HW01\", 100)\n",
    "student.add_assignment(\"HW02\", 90)\n",
    "student.add_assignment(\"HW03\", 80)\n",
    "student.add_assignment(\"HW04\", 70)\n",
    "student.plot()"
   ]
  },
  {
   "cell_type": "markdown",
   "id": "c56a1a5e-bde9-41dc-8243-5edf18248e3b",
   "metadata": {},
   "source": [
    "## 7.4"
   ]
  },
  {
   "cell_type": "code",
   "execution_count": 15,
   "id": "34938c23-0d71-452b-9ef8-68b272324138",
   "metadata": {
    "tags": []
   },
   "outputs": [],
   "source": [
    "#7.4\n",
    "class V3:\n",
    "\n",
    "  def __init__(self, instance_size, num_vcpus, memory, disk_space):\n",
    "    self.instance_size = instance_size\n",
    "    self.num_vcpus = num_vcpus\n",
    "    self.memory = memory\n",
    "    self.disk_space = disk_space\n",
    "\n",
    "  def add_disk_space(self, amt_to_add):\n",
    "    self.disk_space += amt_to_add\n",
    "\n",
    "  def has_enough_disk_space(self, amt_required):\n",
    "    '''\n",
    "    checks if the amount required is available\n",
    "    '''\n",
    "    if amt_required < self.disk_space:\n",
    "      print(\"There is enough disk space!\")\n",
    "      return True\n",
    "    else:\n",
    "      print(\"There is NOT enough disk space!\")\n",
    "      return False"
   ]
  },
  {
   "cell_type": "markdown",
   "id": "a7350cd7-210d-47f9-bc90-15b0c32e41d1",
   "metadata": {},
   "source": [
    "## 7.5"
   ]
  },
  {
   "cell_type": "code",
   "execution_count": 16,
   "id": "1fab8e0f-1e45-4b38-986c-05b022c4639f",
   "metadata": {
    "tags": []
   },
   "outputs": [
    {
     "data": {
      "text/plain": [
       "3.0"
      ]
     },
     "execution_count": 16,
     "metadata": {},
     "output_type": "execute_result"
    }
   ],
   "source": [
    "#7.5\n",
    "myobject = V3('large', 32, 256, 1.)\n",
    "myobject.add_disk_space(2.)\n",
    "myobject.disk_space"
   ]
  },
  {
   "cell_type": "code",
   "execution_count": 17,
   "id": "6b190c51-9969-43eb-abd9-3f559e5e7808",
   "metadata": {
    "tags": []
   },
   "outputs": [
    {
     "name": "stdout",
     "output_type": "stream",
     "text": [
      "There is NOT enough disk space!\n"
     ]
    },
    {
     "data": {
      "text/plain": [
       "False"
      ]
     },
     "execution_count": 17,
     "metadata": {},
     "output_type": "execute_result"
    }
   ],
   "source": [
    "myobject.has_enough_disk_space(10.)"
   ]
  },
  {
   "cell_type": "markdown",
   "id": "35c2f325-c773-4224-a943-6ce73c11b89e",
   "metadata": {},
   "source": [
    "## 7.6"
   ]
  },
  {
   "cell_type": "code",
   "execution_count": 18,
   "id": "66eab4a0-aa09-4b44-a18e-4af0aa44eb1b",
   "metadata": {
    "tags": []
   },
   "outputs": [],
   "source": [
    "#7.6\n",
    "from math import pi\n",
    "\n",
    "class Circle:  #constructed by a radius means __init__(radius) will take radius as the argument\n",
    "  def __init__(self, radius):\n",
    "    self.radius = radius\n",
    "\n",
    "  def compute_area(self):\n",
    "    self.area = pi * self.radius**2\n",
    "    return round(self.area, 2)\n",
    "\n",
    "  def compute_circumference(self):\n",
    "    self.circumference = pi * 2 * self.radius\n",
    "    return round(self.circumference, 2)"
   ]
  },
  {
   "cell_type": "code",
   "execution_count": 19,
   "id": "39f86f97-6404-432d-9d3f-c34f7461e601",
   "metadata": {
    "tags": []
   },
   "outputs": [
    {
     "data": {
      "text/plain": [
       "314.16"
      ]
     },
     "execution_count": 19,
     "metadata": {},
     "output_type": "execute_result"
    }
   ],
   "source": [
    "my_circle = Circle(10)\n",
    "my_circle.compute_area()"
   ]
  },
  {
   "cell_type": "code",
   "execution_count": 20,
   "id": "07b5b61b-477b-4d52-a5bd-dfa3bd307c71",
   "metadata": {
    "tags": []
   },
   "outputs": [
    {
     "data": {
      "text/plain": [
       "62.83"
      ]
     },
     "execution_count": 20,
     "metadata": {},
     "output_type": "execute_result"
    }
   ],
   "source": [
    "my_circle.compute_circumference()"
   ]
  },
  {
   "cell_type": "code",
   "execution_count": 21,
   "id": "4f560e86-67e3-45b7-a307-b0db3ea41e56",
   "metadata": {
    "tags": []
   },
   "outputs": [
    {
     "name": "stdout",
     "output_type": "stream",
     "text": [
      "Area:  314.1592653589793\n",
      "Circumference:  62.83185307179586\n"
     ]
    }
   ],
   "source": [
    "print('Area: ', my_circle.area)\n",
    "print('Circumference: ', my_circle.circumference)"
   ]
  },
  {
   "cell_type": "markdown",
   "id": "7b863a70-4fef-4c54-82fd-4b3167127ee0",
   "metadata": {},
   "source": [
    "## 7.7\n",
    "\n",
    "private method!"
   ]
  },
  {
   "cell_type": "code",
   "execution_count": 5,
   "id": "e9b87789-c636-4a07-af8b-0e3aadc6effc",
   "metadata": {
    "tags": []
   },
   "outputs": [],
   "source": [
    "class Rectangle():\n",
    "    def __init__(self, length, width):\n",
    "        self.length = length\n",
    "        self.width = width\n",
    "        \n",
    "    def compute_area(self): #privacy is done here\n",
    "        self.area = (self.length * self.width) \n",
    "    \n",
    "    def get_area(self):\n",
    "        return self.area\n",
    "    "
   ]
  },
  {
   "cell_type": "code",
   "execution_count": 2,
   "id": "0d081d40-6848-4cbe-a0f9-9d818018efd4",
   "metadata": {
    "tags": []
   },
   "outputs": [
    {
     "data": {
      "text/plain": [
       "120"
      ]
     },
     "execution_count": 2,
     "metadata": {},
     "output_type": "execute_result"
    }
   ],
   "source": [
    "rectangle = Rectangle(12,10)\n",
    "rectangle.compute_area()\n",
    "rectangle.get_area()"
   ]
  },
  {
   "cell_type": "markdown",
   "id": "86f09be6-e320-4981-967b-fc0f9d85a3f3",
   "metadata": {},
   "source": [
    "## 7.8\n",
    "\n",
    "static method!"
   ]
  },
  {
   "cell_type": "code",
   "execution_count": 10,
   "id": "ae38a6f5-46c4-41b7-92d7-79b4c3ccb7be",
   "metadata": {
    "tags": []
   },
   "outputs": [],
   "source": [
    "class Geometry():\n",
    "    def get_rectangle_area(l, w):\n",
    "        return l * w"
   ]
  },
  {
   "cell_type": "code",
   "execution_count": 11,
   "id": "398028d7-99ac-4d48-a6c1-b499ea7b35bb",
   "metadata": {
    "tags": []
   },
   "outputs": [
    {
     "data": {
      "text/plain": [
       "150"
      ]
     },
     "execution_count": 11,
     "metadata": {},
     "output_type": "execute_result"
    }
   ],
   "source": [
    "Geometry.get_rectangle_area(10,15)"
   ]
  },
  {
   "cell_type": "markdown",
   "id": "ed1ea2d8-0cf1-4c8f-a7fe-b146b5ad20ca",
   "metadata": {},
   "source": [
    "## 7.9"
   ]
  },
  {
   "cell_type": "code",
   "execution_count": 16,
   "id": "f1de92e4-bdb2-4ddc-83c0-7fb860a9c91c",
   "metadata": {
    "tags": []
   },
   "outputs": [],
   "source": [
    "class T2T():\n",
    "    c2f = lambda x: round(1.8 * x + 32, 2)\n",
    "    f2c = lambda y: round((y - 32)/ 1.8, 2)\n",
    "    \n",
    "    \n",
    "    "
   ]
  },
  {
   "cell_type": "code",
   "execution_count": 17,
   "id": "dbc87fdd-10bd-46ed-9139-ae442cc52ce5",
   "metadata": {
    "tags": []
   },
   "outputs": [
    {
     "data": {
      "text/plain": [
       "113.0"
      ]
     },
     "execution_count": 17,
     "metadata": {},
     "output_type": "execute_result"
    }
   ],
   "source": [
    "T2T.c2f(45)"
   ]
  },
  {
   "cell_type": "code",
   "execution_count": 18,
   "id": "07cb0c39-a9cc-4c25-b9f7-c3827b9e0907",
   "metadata": {
    "tags": []
   },
   "outputs": [
    {
     "data": {
      "text/plain": [
       "45.0"
      ]
     },
     "execution_count": 18,
     "metadata": {},
     "output_type": "execute_result"
    }
   ],
   "source": [
    "T2T.f2c(113)"
   ]
  }
 ],
 "metadata": {
  "kernelspec": {
   "display_name": "Python 3 (ipykernel)",
   "language": "python",
   "name": "python3"
  },
  "language_info": {
   "codemirror_mode": {
    "name": "ipython",
    "version": 3
   },
   "file_extension": ".py",
   "mimetype": "text/x-python",
   "name": "python",
   "nbconvert_exporter": "python",
   "pygments_lexer": "ipython3",
   "version": "3.11.4"
  }
 },
 "nbformat": 4,
 "nbformat_minor": 5
}
