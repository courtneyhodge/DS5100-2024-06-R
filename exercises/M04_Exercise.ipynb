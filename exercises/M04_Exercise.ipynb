{
 "cells": [
  {
   "cell_type": "markdown",
   "id": "3ca8144e-06bf-4b64-9089-110d8ca55e73",
   "metadata": {},
   "source": [
    "# Module 4 Exercises\n"
   ]
  },
  {
   "cell_type": "markdown",
   "id": "522c9936-6453-4418-9369-15f1d648922c",
   "metadata": {},
   "source": [
    "## Exercise 4.1\n",
    "\n",
    "> Write a function with these requirements:\n",
    "* Has a sensible name\n",
    "* contains a docstring\n",
    "* takes two inputs: a string and an integer\n",
    "* returns TRUE if the string length is equal to the integer, else FALSE\n",
    "Call the funciton, passing inputs:\n",
    "* \"is this text the right length?\" for the string\n",
    "* 30 for integer\n",
    "Verify the output is TRUE\n"
   ]
  },
  {
   "cell_type": "code",
   "execution_count": 1,
   "id": "50353db3-0a1c-4112-b151-ccbcf38f7ba7",
   "metadata": {
    "tags": []
   },
   "outputs": [
    {
     "data": {
      "text/plain": [
       "False"
      ]
     },
     "execution_count": 1,
     "metadata": {},
     "output_type": "execute_result"
    }
   ],
   "source": [
    "def compare_string_and_integer(str, int):\n",
    "  \"\"\"\n",
    "  Compares an integer and a string's length and returns True if they are equal.\n",
    "  Returns False if not.\n",
    "  \"\"\"\n",
    "  if(len(str) == int):\n",
    "    return True\n",
    "  else:\n",
    "    return False\n",
    "\n",
    "compare_string_and_integer(\"is this string the right length\", 30)\n"
   ]
  },
  {
   "cell_type": "markdown",
   "id": "d3bbb9c2-eb40-43a4-a0ea-973e0669b4f8",
   "metadata": {},
   "source": [
    "## Exercise 4.2\n",
    "> Write a function with these requirements:\n",
    "* takes *args for the input argument\n",
    "* squares each argument, printing the value. You can use a for loop.\n",
    "* returns NONE\n",
    "Call the function, passing at least two integers"
   ]
  },
  {
   "cell_type": "code",
   "execution_count": 2,
   "id": "02ae7d0a-3770-43ac-8045-8be41ad67fd0",
   "metadata": {
    "tags": []
   },
   "outputs": [
    {
     "name": "stdout",
     "output_type": "stream",
     "text": [
      "1\n",
      "4\n",
      "9\n",
      "16\n",
      "25\n"
     ]
    }
   ],
   "source": [
    "def my_exercise_two_function(*args):\n",
    "  for i in args:\n",
    "    print(i**2)\n",
    "  return None\n",
    "\n",
    "my_exercise_two_function(1,2,3,4,5)"
   ]
  },
  {
   "cell_type": "markdown",
   "id": "8b9cf009-dfd4-4486-a540-f8b0e750a853",
   "metadata": {},
   "source": [
    "## Exercise 4.3\n",
    "> Write a function called \"word_shortener()\" that takes a long word and replaces it with a string that has the same first and last letters capitalized, and replaces the middle letters with the number of middle letters.\n",
    "* For example, \"internationalization\" would be returned as \"I18N\".\n",
    "Make sure it only accepts strings, and of a minimum length.\n",
    "* Include a short docstring\n",
    "* Hint: You can use isinstance() to check the variable type\n"
   ]
  },
  {
   "cell_type": "code",
   "execution_count": 4,
   "id": "f83f590a-61f6-4e3f-bec3-28f549b2accc",
   "metadata": {
    "tags": []
   },
   "outputs": [],
   "source": [
    "def word_shortener(long_word, min_len = 5):\n",
    "  \"\"\"\n",
    "  converts a long word into word with internal letters replaced by their count.\n",
    "  \"\"\"\n",
    "  if not isinstance(long_word, str):\n",
    "    print(f\"{long_word} is a {type(long_word)}, not a string!\")\n",
    "    return False\n",
    "  elif len(long_word) < min_len:\n",
    "    print(f\"Word {long_word} is too short! It needs to be at least {min_len} letters long\")\n",
    "    return False\n",
    "  else:\n",
    "    first_letter = long_word[0].upper()\n",
    "    last_letter = long_word[-1].upper()\n",
    "    middle_numbers = len(long_word[1:-1])\n",
    "    new_word = first_letter + str(middle_numbers) + last_letter\n",
    "    return new_word"
   ]
  },
  {
   "cell_type": "code",
   "execution_count": 5,
   "id": "d0888c56-07d8-4852-a75d-6b993cc504f7",
   "metadata": {
    "tags": []
   },
   "outputs": [
    {
     "data": {
      "text/plain": [
       "'L10N'"
      ]
     },
     "execution_count": 5,
     "metadata": {},
     "output_type": "execute_result"
    }
   ],
   "source": [
    "word_shortener('localization')"
   ]
  },
  {
   "cell_type": "markdown",
   "id": "d4e14c19-70aa-4461-99d5-925b1461c5d5",
   "metadata": {
    "tags": []
   },
   "source": [
    "## Exercise 4.4\n",
    "> Define a function with these requiremnets:\n",
    "* take one numeric value as input\n",
    "* subtract 5 from the value\n",
    "* retunr 1 if the difference is nonnegative, else return 0\n",
    "\n",
    "> Call the function on different values to test it"
   ]
  },
  {
   "cell_type": "code",
   "execution_count": 10,
   "id": "8e7bbbed-6c40-4a7b-8172-65eeba12045b",
   "metadata": {
    "tags": []
   },
   "outputs": [],
   "source": [
    "def my_exercise_four_function(num):\n",
    "  if not isinstance(num, int or float):\n",
    "    print(\"Please enter a number\")\n",
    "  else:\n",
    "    if (num - 5 >= 0):\n",
    "      return 1\n",
    "    else:\n",
    "      return 0"
   ]
  },
  {
   "cell_type": "code",
   "execution_count": 11,
   "id": "1f3f0718-ed99-422f-a0a9-2ad7866c440e",
   "metadata": {
    "tags": []
   },
   "outputs": [
    {
     "data": {
      "text/plain": [
       "0"
      ]
     },
     "execution_count": 11,
     "metadata": {},
     "output_type": "execute_result"
    }
   ],
   "source": [
    "my_exercise_four_function(4)"
   ]
  }
 ],
 "metadata": {
  "kernelspec": {
   "display_name": "Python 3 (ipykernel)",
   "language": "python",
   "name": "python3"
  },
  "language_info": {
   "codemirror_mode": {
    "name": "ipython",
    "version": 3
   },
   "file_extension": ".py",
   "mimetype": "text/x-python",
   "name": "python",
   "nbconvert_exporter": "python",
   "pygments_lexer": "ipython3",
   "version": "3.11.4"
  }
 },
 "nbformat": 4,
 "nbformat_minor": 5
}
