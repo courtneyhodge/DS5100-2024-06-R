{
 "cells": [
  {
   "cell_type": "markdown",
   "id": "911b51da-12e1-43b4-b6d2-9e77b14df1c0",
   "metadata": {},
   "source": [
    "# Module 05 Exercises"
   ]
  },
  {
   "cell_type": "markdown",
   "id": "c2a24fbb-101d-412f-8c30-1348796c2322",
   "metadata": {},
   "source": [
    "## Exercise 5.1\n",
    "\n",
    "> write a for loop to build a list containing the integers 1 to 100,000 where all odd numebers have negative sign\n",
    "\n",
    "> TIme the code using time()\n",
    "\n",
    "> Print out the result time delta"
   ]
  },
  {
   "cell_type": "code",
   "execution_count": 1,
   "id": "5c21980d-1bb3-44e8-aa12-fe37cafcbdb3",
   "metadata": {
    "tags": []
   },
   "outputs": [
    {
     "name": "stdout",
     "output_type": "stream",
     "text": [
      "runtime:  0.009432315826416016\n"
     ]
    }
   ],
   "source": [
    "## Exercise 5.1\n",
    "import time\n",
    "t0 = time.time()\n",
    "\n",
    "my_list = []\n",
    "for i in range (1,100001):\n",
    "  if i % 2 == 2:\n",
    "    my_list.append(-i)\n",
    "  else:\n",
    "    my_list.append(i)\n",
    "\n",
    "print('runtime: ', time.time() - t0)\n"
   ]
  },
  {
   "cell_type": "markdown",
   "id": "61c825a5-7eeb-4026-a391-b7a25eb383a0",
   "metadata": {
    "tags": []
   },
   "source": [
    "## Exercise 5.2\n",
    "> Write a list comprehension to build the list, and time it using time()\n",
    "\n",
    "> Remember: While we put the for loop before if statements, it is different with if else statements\n",
    "\n",
    "> if else statements preced a for loop in a list comprehension"
   ]
  },
  {
   "cell_type": "code",
   "execution_count": 3,
   "id": "c1884d08-c7f2-43a6-9345-375dac10fb3d",
   "metadata": {
    "tags": []
   },
   "outputs": [
    {
     "name": "stdout",
     "output_type": "stream",
     "text": [
      "runtime:  0.0067822933197021484\n"
     ]
    }
   ],
   "source": [
    "t0 = time.time()\n",
    "my_list = [i * -1 if i % 2 == 1 else i for i in range(1, 100001)]\n",
    "print('runtime: ', time.time() - t0)\n"
   ]
  },
  {
   "cell_type": "markdown",
   "id": "bc060784-ae69-4a7c-a0a0-d2651d6e03cc",
   "metadata": {},
   "source": [
    "## Exercise 5.3\n",
    "\n",
    "> Use NumPy to generate 10 random integers ranging from 1 to 6 inclusive.\n",
    "\n",
    "> Save the results in a list and then print the list as a comma-delimitted string.\n",
    "\n",
    "> Hint: Use NumPy's random.randint() function\n",
    "\n",
    ">Hint: ', '.join(my_list_like)"
   ]
  },
  {
   "cell_type": "code",
   "execution_count": 4,
   "id": "20941783-71d8-4243-be19-49bdb24efb83",
   "metadata": {
    "tags": []
   },
   "outputs": [
    {
     "name": "stdout",
     "output_type": "stream",
     "text": [
      "4, 6, 1, 2, 2, 4, 5, 4, 6, 6\n"
     ]
    }
   ],
   "source": [
    "import numpy as np\n",
    "\n",
    "#start at 1, go to 7, give me 10 numbers\n",
    "my_list = np.random.randint(1, 7, 10)\n",
    "print(', '.join(str(i) for i in my_list))"
   ]
  },
  {
   "cell_type": "markdown",
   "id": "7119a1a0-3562-422e-ab56-cb3c3e59b013",
   "metadata": {},
   "source": [
    "## Exercise 5.4\n",
    "> Use random.randomint() to generate a single random integer and print the type of the result\n",
    "\n",
    "> Then generate 5 random integers between 1 and 21 and print the type of the result.\n",
    "\n",
    "> What difference do you see?"
   ]
  },
  {
   "cell_type": "code",
   "execution_count": 5,
   "id": "5fe743e3-3735-4968-bfd4-bd10ccf1b397",
   "metadata": {
    "tags": []
   },
   "outputs": [
    {
     "data": {
      "text/plain": [
       "int"
      ]
     },
     "execution_count": 5,
     "metadata": {},
     "output_type": "execute_result"
    }
   ],
   "source": [
    "r1 = np.random.randint(10)\n",
    "type(r1)"
   ]
  },
  {
   "cell_type": "code",
   "execution_count": 6,
   "id": "0832fdf3-e391-4777-92c0-db1b087c0915",
   "metadata": {
    "tags": []
   },
   "outputs": [
    {
     "data": {
      "text/plain": [
       "numpy.ndarray"
      ]
     },
     "execution_count": 6,
     "metadata": {},
     "output_type": "execute_result"
    }
   ],
   "source": [
    "r2 = np.random.randint(1, 21, 5)\n",
    "type(r2)"
   ]
  },
  {
   "cell_type": "markdown",
   "id": "c6a17d81-a038-454a-8cb5-22e7859709a0",
   "metadata": {},
   "source": [
    "## Exercise 5.5\n",
    "\n",
    "> Plot a histogram for the array of random integers you just created.\n",
    "\n",
    "> Hint: Import Matplotlib's Histogram function as follows:\n",
    "\n",
    "> THen pass the array to hist() "
   ]
  },
  {
   "cell_type": "code",
   "execution_count": 7,
   "id": "39dbec35-3de9-4ab4-8603-f627e364d50d",
   "metadata": {
    "tags": []
   },
   "outputs": [
    {
     "data": {
      "image/png": "[encoded data removed]",
      "text/plain": [
       "<Figure size 640x480 with 1 Axes>"
      ]
     },
     "metadata": {},
     "output_type": "display_data"
    }
   ],
   "source": [
    "from matplotlib.pyplot import hist\n",
    "\n",
    "hist(r2);"
   ]
  },
  {
   "cell_type": "markdown",
   "id": "1c27e5d5-ae26-4b7f-86ff-9ebdca40e958",
   "metadata": {},
   "source": [
    "## Exercise 5.6\n",
    "\n",
    "> Generate and print a matrix (2D array) of random normals of shape 2 x 3.\n",
    "\n",
    "> Hint: np.random.randn(m, n) samples from the standard normal distribution and generates an m by n matrix"
   ]
  },
  {
   "cell_type": "code",
   "execution_count": 8,
   "id": "8fcfe6d2-13a4-4736-a0a4-35e3fc5744dc",
   "metadata": {
    "tags": []
   },
   "outputs": [
    {
     "name": "stdout",
     "output_type": "stream",
     "text": [
      "[[-0.56474111  0.91442215 -0.87084694]\n",
      " [-1.42063042  0.43106701 -0.27431059]]\n"
     ]
    }
   ],
   "source": [
    "x = np.random.randn(2,3)\n",
    "print(x)"
   ]
  },
  {
   "cell_type": "markdown",
   "id": "8602a738-f6c6-4405-8e20-1805861ebb3e",
   "metadata": {},
   "source": [
    "## Exercise 5.7\n",
    "\n",
    "> Multiply the matrix you just created by 2"
   ]
  },
  {
   "cell_type": "code",
   "execution_count": 9,
   "id": "42d36810-ec16-484e-843a-e281f45ad594",
   "metadata": {
    "tags": []
   },
   "outputs": [
    {
     "data": {
      "text/plain": [
       "array([[-1.12948222,  1.8288443 , -1.74169388],\n",
       "       [-2.84126084,  0.86213403, -0.54862119]])"
      ]
     },
     "execution_count": 9,
     "metadata": {},
     "output_type": "execute_result"
    }
   ],
   "source": [
    "x * 2"
   ]
  },
  {
   "cell_type": "code",
   "execution_count": 10,
   "id": "f14eb936-0142-422d-b103-8f850a45f018",
   "metadata": {
    "tags": []
   },
   "outputs": [
    {
     "data": {
      "text/plain": [
       "array([[-1.12948222,  1.8288443 , -1.74169388],\n",
       "       [-2.84126084,  0.86213403, -0.54862119]])"
      ]
     },
     "execution_count": 10,
     "metadata": {},
     "output_type": "execute_result"
    }
   ],
   "source": [
    "x + x"
   ]
  },
  {
   "cell_type": "code",
   "execution_count": 11,
   "id": "ecf75650-6b43-40cf-8c66-9abb18ac1eb1",
   "metadata": {
    "tags": []
   },
   "outputs": [
    {
     "data": {
      "text/plain": [
       "array([[-1.77072287,  1.09358681, -1.14830742],\n",
       "       [-0.70391284,  2.31982491, -3.64550266]])"
      ]
     },
     "execution_count": 11,
     "metadata": {},
     "output_type": "execute_result"
    }
   ],
   "source": [
    "1/ x"
   ]
  },
  {
   "cell_type": "markdown",
   "id": "89224c85-ff1e-41b9-bd8a-7fa559c8275f",
   "metadata": {},
   "source": [
    "## Exercise 5.10\n",
    "\n",
    "> Create two, two-dimensional arrays\n",
    "\n",
    "> one of 1s and one of 1s\n",
    "\n",
    ">both of shape 2x4"
   ]
  },
  {
   "cell_type": "code",
   "execution_count": 12,
   "id": "6ad71706-40dc-4c0a-a66a-9cbc8fc69dba",
   "metadata": {
    "tags": []
   },
   "outputs": [
    {
     "name": "stdout",
     "output_type": "stream",
     "text": [
      "[[0. 0. 0. 0.]\n",
      " [0. 0. 0. 0.]]\n",
      "[[1. 1. 1. 1.]\n",
      " [1. 1. 1. 1.]]\n"
     ]
    }
   ],
   "source": [
    "my_shape = (2,4)\n",
    "\n",
    "z1 = np.zeros(my_shape)\n",
    "\n",
    "print(z1)\n",
    "o2 = np.ones(my_shape)\n",
    "print(o2)"
   ]
  },
  {
   "cell_type": "markdown",
   "id": "7f1d990a-a383-4889-9422-ff53994828ca",
   "metadata": {},
   "source": [
    "## Exercise 5.11\n",
    "> create an identity matrix with 4 rows and columns"
   ]
  },
  {
   "cell_type": "code",
   "execution_count": 13,
   "id": "ade3983c-3334-4164-9115-4e990a152ba4",
   "metadata": {
    "tags": []
   },
   "outputs": [
    {
     "data": {
      "text/plain": [
       "array([[1., 0., 0., 0.],\n",
       "       [0., 1., 0., 0.],\n",
       "       [0., 0., 1., 0.],\n",
       "       [0., 0., 0., 1.]])"
      ]
     },
     "execution_count": 13,
     "metadata": {},
     "output_type": "execute_result"
    }
   ],
   "source": [
    "np.identity(4)\n",
    "#note that identity matrices are square"
   ]
  },
  {
   "cell_type": "markdown",
   "id": "9e71a00e-cdef-47f8-8ae3-161164d2d5c4",
   "metadata": {},
   "source": [
    "## 5.12\n",
    "\n",
    "> Generate a vector of random numbers of length 5\n",
    "\n",
    ">then print a slice that consists of 3 elements, beginning with the second element\n",
    "\n",
    "> then print a slice that excludes the first and last element"
   ]
  },
  {
   "cell_type": "code",
   "execution_count": 14,
   "id": "b875bf0d-a81c-46ef-ad21-434febfa6755",
   "metadata": {
    "tags": []
   },
   "outputs": [
    {
     "data": {
      "text/plain": [
       "array([ 1.08466946,  1.1095786 , -1.39270879])"
      ]
     },
     "execution_count": 14,
     "metadata": {},
     "output_type": "execute_result"
    }
   ],
   "source": [
    "x = np.random.randn(5)\n",
    "x[1:4]\n",
    "\n",
    "x[1:-1]\n"
   ]
  },
  {
   "cell_type": "markdown",
   "id": "e9c252a0-33b8-461e-8235-b538ef58a632",
   "metadata": {},
   "source": [
    "## Exercise 5.13\n",
    "\n",
    "> select all elements > 0.15\n",
    "\n",
    "> what is it called when you filter an array in this manner?\n",
    "\n",
    "> that is, using truth values in the indexer"
   ]
  },
  {
   "cell_type": "code",
   "execution_count": 15,
   "id": "428d73ec-1f31-4ebb-bda7-5cf78c04a20c",
   "metadata": {
    "tags": []
   },
   "outputs": [
    {
     "data": {
      "text/plain": [
       "array([1.08466946, 1.1095786 ])"
      ]
     },
     "execution_count": 15,
     "metadata": {},
     "output_type": "execute_result"
    }
   ],
   "source": [
    "x[x > 0.15] #here, you put the array as an argument in the array, so every single element is tested against this\n"
   ]
  },
  {
   "cell_type": "code",
   "execution_count": 30,
   "id": "226c8fbf-9ce1-4ba2-a524-5c0e0ce36622",
   "metadata": {
    "tags": []
   },
   "outputs": [
    {
     "ename": "TypeError",
     "evalue": "list indices must be integers or slices, not tuple",
     "output_type": "error",
     "traceback": [
      "\u001b[0;31m---------------------------------------------------------------------------\u001b[0m",
      "\u001b[0;31mTypeError\u001b[0m                                 Traceback (most recent call last)",
      "Cell \u001b[0;32mIn[30], line 5\u001b[0m\n\u001b[1;32m      1\u001b[0m foo \u001b[38;5;241m=\u001b[39m   ([[\u001b[38;5;241m1.\u001b[39m, \u001b[38;5;241m2.\u001b[39m, \u001b[38;5;241m3.\u001b[39m, \u001b[38;5;241m4.\u001b[39m], \n\u001b[1;32m      2\u001b[0m           [\u001b[38;5;241m1.\u001b[39m, \u001b[38;5;241m2.\u001b[39m, \u001b[38;5;241m3.\u001b[39m, \u001b[38;5;241m4.\u001b[39m],\n\u001b[1;32m      3\u001b[0m           [\u001b[38;5;241m1.\u001b[39m, \u001b[38;5;241m2.\u001b[39m, \u001b[38;5;241m3.\u001b[39m, \u001b[38;5;241m4.\u001b[39m]])\n\u001b[0;32m----> 5\u001b[0m \u001b[43mfoo\u001b[49m\u001b[43m[\u001b[49m\u001b[43m:\u001b[49m\u001b[43m,\u001b[49m\u001b[43m \u001b[49m\u001b[38;5;241;43m0\u001b[39;49m\u001b[43m]\u001b[49m\n",
      "\u001b[0;31mTypeError\u001b[0m: list indices must be integers or slices, not tuple"
     ]
    }
   ],
   "source": [
    "foo =   ([[1., 2., 3., 4.], \n",
    "          [1., 2., 3., 4.],\n",
    "          [1., 2., 3., 4.]])\n",
    "\n",
    "foo[:, 0]"
   ]
  },
  {
   "cell_type": "code",
   "execution_count": 23,
   "id": "6ed56e77-7cfd-4d74-9a2c-978abb996253",
   "metadata": {
    "tags": []
   },
   "outputs": [
    {
     "ename": "TypeError",
     "evalue": "list indices must be integers or slices, not tuple",
     "output_type": "error",
     "traceback": [
      "\u001b[0;31m---------------------------------------------------------------------------\u001b[0m",
      "\u001b[0;31mTypeError\u001b[0m                                 Traceback (most recent call last)",
      "Cell \u001b[0;32mIn[23], line 1\u001b[0m\n\u001b[0;32m----> 1\u001b[0m \u001b[43mfoo\u001b[49m\u001b[43m[\u001b[49m\u001b[38;5;241;43m2\u001b[39;49m\u001b[43m:\u001b[49m\u001b[43m,\u001b[49m\u001b[43m \u001b[49m\u001b[43m:\u001b[49m\u001b[38;5;241;43m1\u001b[39;49m\u001b[43m]\u001b[49m\n",
      "\u001b[0;31mTypeError\u001b[0m: list indices must be integers or slices, not tuple"
     ]
    }
   ],
   "source": [
    "foo[2:, :1]"
   ]
  },
  {
   "cell_type": "code",
   "execution_count": 24,
   "id": "e86a5d72-4b03-4615-96d8-7dcb8d58a6d4",
   "metadata": {
    "tags": []
   },
   "outputs": [
    {
     "ename": "TypeError",
     "evalue": "unsupported operand type(s) for %: 'list' and 'int'",
     "output_type": "error",
     "traceback": [
      "\u001b[0;31m---------------------------------------------------------------------------\u001b[0m",
      "\u001b[0;31mTypeError\u001b[0m                                 Traceback (most recent call last)",
      "Cell \u001b[0;32mIn[24], line 2\u001b[0m\n\u001b[1;32m      1\u001b[0m bar \u001b[38;5;241m=\u001b[39m [\u001b[38;5;241m1\u001b[39m, \u001b[38;5;241m2\u001b[39m, \u001b[38;5;241m3\u001b[39m, \u001b[38;5;241m4\u001b[39m]\n\u001b[0;32m----> 2\u001b[0m bar[\u001b[43mbar\u001b[49m\u001b[43m \u001b[49m\u001b[38;5;241;43m%\u001b[39;49m\u001b[43m \u001b[49m\u001b[38;5;241;43m2\u001b[39;49m \u001b[38;5;241m==\u001b[39m \u001b[38;5;241m0\u001b[39m]\n",
      "\u001b[0;31mTypeError\u001b[0m: unsupported operand type(s) for %: 'list' and 'int'"
     ]
    }
   ],
   "source": [
    "bar = [1, 2, 3, 4]\n",
    "bar[bar % 2 == 0]"
   ]
  },
  {
   "cell_type": "code",
   "execution_count": null,
   "id": "0b57c7b1-6797-47be-9581-534c8cdaa138",
   "metadata": {},
   "outputs": [],
   "source": []
  }
 ],
 "metadata": {
  "kernelspec": {
   "display_name": "Python 3 (ipykernel)",
   "language": "python",
   "name": "python3"
  },
  "language_info": {
   "codemirror_mode": {
    "name": "ipython",
    "version": 3
   },
   "file_extension": ".py",
   "mimetype": "text/x-python",
   "name": "python",
   "nbconvert_exporter": "python",
   "pygments_lexer": "ipython3",
   "version": "3.11.4"
  }
 },
 "nbformat": 4,
 "nbformat_minor": 5
}
