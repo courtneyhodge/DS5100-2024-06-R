{
 "cells": [
  {
   "cell_type": "markdown",
   "id": "172d3b95-ece7-4122-b33b-37ab9af67193",
   "metadata": {},
   "source": [
    "# M08_Exercises"
   ]
  },
  {
   "cell_type": "markdown",
   "id": "d61c232b-4005-4e48-bc42-15fcb9b7b241",
   "metadata": {},
   "source": [
    "8.1"
   ]
  },
  {
   "cell_type": "code",
   "execution_count": 3,
   "id": "1683ac3d-84c7-4d95-9ed4-403540cad0e6",
   "metadata": {
    "tags": []
   },
   "outputs": [
    {
     "name": "stdout",
     "output_type": "stream",
     "text": [
      "Caught an exception! Error message: division by zero\n"
     ]
    }
   ],
   "source": [
    "try:\n",
    "    10/0\n",
    "except ZeroDivisionError as a: #you can say \"ZeroDivisionError\" to get the output \"division by zero\"\n",
    "    print(\"Caught an exception! Error message:\", a)"
   ]
  },
  {
   "cell_type": "markdown",
   "id": "d4d978a9-3457-4114-8e4e-4531c0a2a1f0",
   "metadata": {},
   "source": [
    "8.2"
   ]
  },
  {
   "cell_type": "code",
   "execution_count": 5,
   "id": "ad7a555b-d922-4f41-b9bc-bd02a6bd9f57",
   "metadata": {
    "tags": []
   },
   "outputs": [],
   "source": [
    "x2 = True\n",
    "assert x2, \"This is not true\""
   ]
  },
  {
   "cell_type": "code",
   "execution_count": 6,
   "id": "d1a5650e-d506-4659-92e4-e97f5dedc859",
   "metadata": {
    "tags": []
   },
   "outputs": [
    {
     "ename": "AssertionError",
     "evalue": "This is not true",
     "output_type": "error",
     "traceback": [
      "\u001b[0;31m---------------------------------------------------------------------------\u001b[0m",
      "\u001b[0;31mAssertionError\u001b[0m                            Traceback (most recent call last)",
      "Cell \u001b[0;32mIn[6], line 2\u001b[0m\n\u001b[1;32m      1\u001b[0m x3 \u001b[38;5;241m=\u001b[39m \u001b[38;5;28;01mFalse\u001b[39;00m\n\u001b[0;32m----> 2\u001b[0m \u001b[38;5;28;01massert\u001b[39;00m x3, \u001b[38;5;124m\"\u001b[39m\u001b[38;5;124mThis is not true\u001b[39m\u001b[38;5;124m\"\u001b[39m\n",
      "\u001b[0;31mAssertionError\u001b[0m: This is not true"
     ]
    }
   ],
   "source": [
    "x3 = False\n",
    "assert x3, \"This is not true\""
   ]
  },
  {
   "cell_type": "markdown",
   "id": "d06d1678-63e1-4bef-816d-78411ab307d5",
   "metadata": {},
   "source": [
    "8.3"
   ]
  },
  {
   "cell_type": "code",
   "execution_count": 7,
   "id": "f0b46b18-4280-46ca-a9e4-3334b64fc955",
   "metadata": {
    "tags": []
   },
   "outputs": [
    {
     "ename": "SyntaxError",
     "evalue": "unterminated string literal (detected at line 8) (233186185.py, line 8)",
     "output_type": "error",
     "traceback": [
      "\u001b[0;36m  Cell \u001b[0;32mIn[7], line 8\u001b[0;36m\u001b[0m\n\u001b[0;31m    assert math.isclose(area(5), 78.5, abs_total = 0.1), 'Test 3 failed!\u001b[0m\n\u001b[0m                                                         ^\u001b[0m\n\u001b[0;31mSyntaxError\u001b[0m\u001b[0;31m:\u001b[0m unterminated string literal (detected at line 8)\n"
     ]
    }
   ],
   "source": [
    "import math import pi\n",
    "\n",
    "def area(radius):\n",
    "   return pi * radius ** 2\n",
    "\n",
    "assert isinstance(area(1), float), 'Test 1 failed!'\n",
    "assert area(0) == 0, 'Test 2 failed!'\n",
    "assert math.isclose(area(5), 78.5, abs_total = 0.1), 'Test 3 failed!"
   ]
  },
  {
   "cell_type": "markdown",
   "id": "db29e883-1020-432e-9539-4d4f0c6a3f22",
   "metadata": {},
   "source": [
    "8.4"
   ]
  },
  {
   "cell_type": "code",
   "execution_count": 9,
   "id": "478c8d3c-c0c6-4ad7-a67f-5add86a59bc4",
   "metadata": {
    "tags": []
   },
   "outputs": [],
   "source": [
    "!python student.py"
   ]
  },
  {
   "cell_type": "code",
   "execution_count": 10,
   "id": "5ba83e82-fcca-4dd0-84a2-4bdcd5ccd7a0",
   "metadata": {
    "tags": []
   },
   "outputs": [
    {
     "name": "stdout",
     "output_type": "stream",
     "text": [
      "test_01_incremented_correctly (__main__.UnenrollInTestCase.test_01_incremented_correctly) ... ['DS 5100', 'CS 5050', 'CS 5777']\n",
      "3\n",
      "ok\n",
      "test_02_decrement_correctly (__main__.UnenrollInTestCase.test_02_decrement_correctly) ... ERROR\n",
      "test_03_is_course_not_added (__main__.UnenrollInTestCase.test_03_is_course_not_added) ... ERROR\n",
      "\n",
      "======================================================================\n",
      "ERROR: test_02_decrement_correctly (__main__.UnenrollInTestCase.test_02_decrement_correctly)\n",
      "----------------------------------------------------------------------\n",
      "Traceback (most recent call last):\n",
      "  File \"/sfs/qumulo/qhome/yss2zv/Documents/MSDS/DS5100/DS5100-2024-06-R/exercises/student_test.py\", line 20, in test_02_decrement_correctly\n",
      "    student1.unenroll_in_course(course)\n",
      "  File \"/sfs/qumulo/qhome/yss2zv/Documents/MSDS/DS5100/DS5100-2024-06-R/exercises/student.py\", line 21, in unenroll_in_course\n",
      "    raise Exception(\"Student was not enrolled in that course\")\n",
      "Exception: Student was not enrolled in that course\n",
      "\n",
      "======================================================================\n",
      "ERROR: test_03_is_course_not_added (__main__.UnenrollInTestCase.test_03_is_course_not_added)\n",
      "----------------------------------------------------------------------\n",
      "Traceback (most recent call last):\n",
      "  File \"/sfs/qumulo/qhome/yss2zv/Documents/MSDS/DS5100/DS5100-2024-06-R/exercises/student_test.py\", line 26, in test_03_is_course_not_added\n",
      "    expected\n",
      "UnboundLocalError: cannot access local variable 'expected' where it is not associated with a value\n",
      "\n",
      "----------------------------------------------------------------------\n",
      "Ran 3 tests in 0.001s\n",
      "\n",
      "FAILED (errors=2)\n"
     ]
    }
   ],
   "source": [
    "!python student_test.py"
   ]
  },
  {
   "cell_type": "markdown",
   "id": "ed82ff2c-becd-43d7-9212-2e6f8401cc35",
   "metadata": {},
   "source": [
    "8.5"
   ]
  },
  {
   "cell_type": "code",
   "execution_count": 20,
   "id": "b3ac2bcb-178f-4bad-a270-5022620df614",
   "metadata": {
    "tags": []
   },
   "outputs": [
    {
     "data": {
      "text/plain": [
       "'2022 outback sport crossover gas'"
      ]
     },
     "execution_count": 20,
     "metadata": {},
     "output_type": "execute_result"
    }
   ],
   "source": [
    "from car import Car, Subaru\n",
    "\n",
    "my_args = dict(body_type = 'crossover',\n",
    "              engine_type = 'gas',\n",
    "              year = '2022',\n",
    "              model = 'outback',\n",
    "              trim = 'sport')\n",
    "my_car = Subaru(**my_args)\n",
    "\n",
    "my_car.describe()"
   ]
  },
  {
   "cell_type": "code",
   "execution_count": 21,
   "id": "cbbbbdbc-0f0d-411d-a217-6da947b44d58",
   "metadata": {
    "tags": []
   },
   "outputs": [],
   "source": [
    "try:\n",
    "    my_car = Subaru(**my_args)\n",
    "    \n",
    "except ValueError as e:\n",
    "    print(e)"
   ]
  }
 ],
 "metadata": {
  "kernelspec": {
   "display_name": "Python 3 (ipykernel)",
   "language": "python",
   "name": "python3"
  },
  "language_info": {
   "codemirror_mode": {
    "name": "ipython",
    "version": 3
   },
   "file_extension": ".py",
   "mimetype": "text/x-python",
   "name": "python",
   "nbconvert_exporter": "python",
   "pygments_lexer": "ipython3",
   "version": "3.11.4"
  }
 },
 "nbformat": 4,
 "nbformat_minor": 5
}
